{
  "nbformat": 4,
  "nbformat_minor": 0,
  "metadata": {
    "colab": {
      "name": "UFCA.ipynb",
      "provenance": [],
      "collapsed_sections": [],
      "toc_visible": true,
      "authorship_tag": "ABX9TyN6nw5RYZN3MaTOG+pNpQxF",
      "include_colab_link": true
    },
    "kernelspec": {
      "name": "python3",
      "display_name": "Python 3"
    }
  },
  "cells": [
    {
      "cell_type": "markdown",
      "metadata": {
        "id": "view-in-github",
        "colab_type": "text"
      },
      "source": [
        "<a href=\"https://colab.research.google.com/github/byronacunia/UFCA_estudo_mercado_livre/blob/main/UFCA.ipynb\" target=\"_parent\"><img src=\"https://colab.research.google.com/assets/colab-badge.svg\" alt=\"Open In Colab\"/></a>"
      ]
    },
    {
      "cell_type": "markdown",
      "metadata": {
        "id": "_5aUTUVTqJWy"
      },
      "source": [
        "#Analise Mercado Cativo"
      ]
    },
    {
      "cell_type": "markdown",
      "metadata": {
        "id": "GHflErbUrcSr"
      },
      "source": [
        "## Passo 1: Definição do tipo de Contrato"
      ]
    },
    {
      "cell_type": "markdown",
      "metadata": {
        "id": "gsVNF0F-sCG5"
      },
      "source": [
        "*   **Tipo de Contrato:** Vigencia única (Flat)\r\n",
        "*   **Tipo de Consumidor:** Especial\r\n",
        "*   **Energia Incentivada:** 50%, 80%, 100%\r\n",
        "\r\n"
      ]
    },
    {
      "cell_type": "markdown",
      "metadata": {
        "id": "sBgg4W6WtGEB"
      },
      "source": [
        "## Passo 2: Cálculo do valor da TUSD no cativo"
      ]
    },
    {
      "cell_type": "markdown",
      "metadata": {
        "id": "QPPsVkm0talp"
      },
      "source": [
        "![image.png](data:image/png;base64,iVBORw0KGgoAAAANSUhEUgAAAl8AAAAlCAYAAAB8mYyTAAAgAElEQVR4Ae29B1RVWbrve947b4x7z7lv3Hvf6XPfud2nu6srW9VdwSqzVZY5CwZQFBBRBEUFQbKSc07mjDmLWmYUJYsSFJDMZpNzjpu99++OvTfRghJtpKu71hpjj73CXHN+8z/D95/f/OZc/4RwCAgICAgICAgICAgICAgICIwaAv80aikJCQkICAgICAgICAgICAgICAggkC+hEggICAgICAgICAgICAgIjCICAvkaRbCFpAQEBAQEBAQEBAQEBAQEBPIl1AEBAQEBAQEBAQEBAQEBgVFEQCBfowi2kJSAgICAgICAgICAgICAgEC+hDogICAgICAgICAgICAgIDCKCAjkaxTBFpISEBAQEBAQEBAQEBAQEBDIl1AHBAQEBAQEBAQEBAQEBARGEQGBfI0i2EJSAgICAgICAgICAgICAgIC+RLqgICAgICAgICAgICAgIDAKCIgkK9RBFtISkBAQEBAQEBAQEBAQEBAIF9CHRAQEBAQEBAQEBAQEBAQGEUEBPI1imALSQkICAgICAgICAgICAgICORLqAMCAgICAgICAgICAgICAqOIgEC+RhFsISkBAQEBAQEBAQEBAQEBAYF8CXVAQEBAQEBAQEBAQEBAQGAUEXg9+WqrprRITGGhiPz8EmpbO5XiddSWUSwWUSjKI7+khqaOUZT6F5VUB5UvY7hz4wa3IuJ4nl9OfbtsZCSUy2ipLEIsLkQsyie/rIEOqSLqVqpKihAXFiLKK6Csvg3JyKT4DxdLV3UWcfd+5MbNCGJTcimta0MJ4TvLaRs1pcWqssnPo7imGWXT6KijokSMSCQiL7+Y6qb2dybB313E0g5aqovIE4kpLMglKysHUVkDqp5m5HPTUVtOiaLvKswnr7iaxnY50ElDZSniAhGivHyKKhtoU9z+tR3SNpqqisgr6CmLXArLG+kaVRw6aKgsQSwSIcrPQ1xZT6uiLLoaqSkTUyASkV9QRFltK7/GIhqyKORddNSVkF8oRizKIzsrm7yiKlqGfOHdP5C1NVJVXKDs9woKiymrV9QkGR0tNRTnK/iDiEJxGXXvqrG/+yy+dQqvJ1+1yZxyXM/y+WoYeIaTWqNCqSUznACTFcyeq4PDmaeU/wrJV3thNKc9Ldi2wwlvXye26yxgrsYODsY3v3WBDHhRLqE0Zg871qizSNOUkIg8mpW9YDVJpxwxUJ/DIgM/rr+s/wckX39lt9pZzJPzPlhtM8fByxcXcz0WzV3GltAo6geAPNIXDaSdc2XTinks0nfjwrNKFflqy+V2iBmas2ejtTOM2BKBfPUiL22h6NFhZT3XWLcdJ293HG3MMbH04uQjEW29AUfmpCXrCn7bNJk3X5ddp+Io6SZfhQ/2Y6M1m1maFux/KKLlr6yCIyPtSMTyBhnpaiY/Yh+mWmporjfH2dsDByszTKx8OBtTpKrLIyHSz8bRjuhOKBZac5mjZcXBBwWqspCUEnfCEZ25M1i6LYSbWU2/CvIlH24u5RLqn1/B1XAFy1YbY+fujou9JdtMHdh9/QW1b1ANfrZ43uChrCGDW8GbUJujhr7jcWJKFWYCGS3ixxw112DewtWY74mkUCBfg6AqqebRrmn8+z/9J0t2R1PcY2JpvsmOiX/gj5O2cDS1YpQa5SDy/Y1udYgfEqI/nQmzDQm6lUZZbQmx+4xRmzYf+0cjxURltIousfnL/8Y/j9nI+Re13VYbKeWndfnkPz5hoeN1cupGd1z6ziFvTOCk734uJYhofZvEOkuI22fI7PEzWOt7g9SSGsoSj2K57DumWd1/uziHLUcXdTHOzP2Pf+Lf5/lzR9TTq7TxwPZ73v/DN6w7mMQ/MveSZN/h2MFDXEisGTZqlbEHWPXxf+X3iz2IiHvM7QuhWGl8w6fj1uAdWTlc9TOs9OSNzwhc/h7/1/+Yxq7wHHpocFeMG4vH/CefrgoiRvxWNW9Y6Y9qoM5Mbh7az+GrydQOK2E5pQ8CUH//X/lghS+P4h5z81wAZku/5tOJ6wiKHV4sw0rqZwK1vjyA3mf/zL98vZ2w5z22GznJIVqM/d0fWeD6kLymn4ngH+GRrISk60cJ3nefomHmpyX/LpYT/5X/McmM85FRRFw/gdfGaYz5fC7mF3K6B+/DjGwkgsmqiQ5dxR//y/9konk4FT38oSKafas/4l8/XsO++NLeNjgSSf69xPF6yxfQfm0r3/5+JuZ3s3tNmO0pfqxbboDnDfGvD7iuIu46LuIvYxaw82F1b1lLa4vIehZH1kh2CtIyjut8zB/UfEnprbmNRNsvQ83kMLE173YSrTdzo3lSehSdcYvYdix+mAqjv3BSyiI90fjyU2ZY3Ka855GsnvLsp0RnNvTceXf/kltYTPoj32+9xvOeutCRxm4DDdY5XSJnpE057y4nbxVz2wMXVi5WZ/OJgmG+L6M0LoQ1Yz9nxT5R7zsdL0+i99m/8bH2SQp6Ou3ep3/dyWPHmXwweR1Hn/TYQSVkH97GGh0rjqaPkOX6rxNxZN5uuY292iKW7zhH4bBilFL4wBONr79E+1hp7xutqQfR+uQ3/HnDRUpGyKuiN/JBT57gu/RTvl0WTERldwCZiPN2eqw2DiGxp9gGffcf5KY0lbPWmny/wIukYWVJTqP4Ojum/IlpjvF9erk+Cvvv/53/mO1FbFXPYHBYEY5IoNL7PqiP/ZxlQS9642tIu4yb1iIMz4gYlerUm/Iv52RY5Et235op701j85W07imbPE5u1mCd6yXSepTLLydPr5GkkfynkdwOv0r49etcH+QXfvUKEUkiqnuGxK/E2JRygHXjPmCC0SkK37UpV1LLRaPP+cN8Z2JKVBa1zrTd6KgZEhpZPOJTMq9k9W9zWX4KoxmrsD79lLo3laDlBac2T+aDb/Q5lPu3ataPcJj2J6ZsOMvTbkOB6Lwpq/UcCEseBfL3ppiNcPj2xz7oa2mz49zw1D3UkHxiI1M/no1jTB/LklW/4KDm+/x2ohX3R3gOMNFrAZ9M1GL3427NXhSO7VpdzPfGMXx73QgD9y6ia43AY80qdHddGab1pJK4/TpMHrMQj8S+gZ2s/Ckhau/x+2kOPB4V/f2c3av+zLiFnvzYbfYpv+/GJh1jvO71sLF3AdgvKE5pGped1rFQM4jUYYnVRkmUIwve/5rNl6vo6NFNnbXc2T6W//2JDsfzG0ed7FQ9CkVr0qcs9IxX5aIlj7tBhizV30PaEDp2WNn9Ow80LPJFvAtzPpjKhjOpSmVYe8ea1boOhCXWvWPn5XeBbjER+5ww26DPho1GGBn99LdhnR52hyMZ3EjSSHzoar764DtMLvaNDN9eUhl0NlHbNMTUYVcDt83H895MOyKKFCaTYi5uVkfP7y7ZI6yQ3j4PI/xm6xW2zdHB4WrmG9ev5mcHMPj2T4wzOkOfDWWE5VP4/jbX0iSRDyHfU7wXfMSktUeIUxhG6yNw1NXF+nAs1X36bOSF+qXE+CwEI9112F0f5hRV20tuWs/l0/HbuNKPm8oqUti/8iP+c4oNEUqP6zfIoLSZ2qZOpEPgnRGqwZ8naOIbUQY0E+u1gbXbg7lbPkQ7fIOkf1lB4wnQ02G9653h+Tq2pnLBZAafTtnBjz2zfYr6XpJAkPr7/HGGE1EjRL6kLXU0dXQN4a+ay1H9bxg/34HLiobc/ow9puswcglHPELp/7LKaTBpCrntZYjamgPkDfb41XtdlaTtXcWYjzTZm9fZR7Laq7hl+g2/G6PH8YLGEZ3CV4ggb2+mpbUFpevkqzIBDXEHWT/tz8x2jFKEpjz6IFYrdfCIbxwk9K/n1vDIV1oA6p9OYt2RFBraUgjR18HqaCzlf5eNoJ1qURbpqSmkpj7n+fOf/lJTkskU19DcNwjvqxGdKRwx/IYPvzXiyMu+22971tUoItxuOWq6fjyq7/ppw5A2EuP4Ax9Ms+THgmbqY5xYpe1KeEbTKK9AetscDuO9kkiOetlhstWE7WbmmBst5Ms/jGHCwjUY7zDHfLsJxsZunIzJpZ9uHiRiCRmntjH5wy/Q3p/2UywHeeNtbkmbognUU2Op9SWKlKt3Xo0lk70anzNBey9x9e2k79uIrvle7ndbLl8N/fd+3Zh2k8NuJhhv3Y6ZuTkmq6bxlzGf8+0iA3aYm2NmYsymncGci1MQnZ8eXaKH+K34ks+0DpLf73GL6C7WU3/Lh5r7yBusLfYLO/C0nad7N7JsyXaOv6gadNVk4bG1fDN+OW4PqpFkH2f7um14Xx955/6Bco3CVX0K1/e7YGK8VdWWtmnw3ZgxfD5RjY3m5pibmWC8aRehlxP7puT7idWVdxOXJV/ypd7xAZaypuxrbJ/4W8boHEM8EgZleRrHTVew0Gg/z4oGM3+UcmHLFMbPs+FKiZTCy7YYGjly6mU/RthP7n+I03YRTy75Yd5TdtvXsmTKX/jgk+nodpfdVmNr3PbcIrvHqtUv4/L6HC4Zj+OPM12Ia+krJGlLJnuW/onf/mBPVMVgWPeL5I1PK4jatxW1peYci60a9O325DBM5nzNDIdo2hvTueiix+qddxg89KBR/EPeHB75KjyM9hcT0DsYw/1D5my02E+EeKQLcbTwlSOXSenq6kLS1aX8V5z3/0kkEqQy2eDKu+Imbgs/5eNFbtwfAeIuayzgiuV8ftDw4lH9IBpG1sIL38V8OtWUC0l3CTLQY+f5VGoGCTpaCI54OhUJXD4YgJuzKx6ePvjtWs2kj8YyY9UWHAL98fZwxclpL9eSCvn5We5qHviq8+cPZmN36/VOIe01JRRXNNA+hHVkqHzKmqPx1fyBeWYXENUP9nIxJ9Z9zXjtPTy4f5ydRjsIvJn/xo7+nQ0VFJfV0PILL+vmnEdc3OuGk4s7Xv5BuBktZPzYb/lutQ2BAT54uDrhEHCCW8mDd7fVCYdYP/kT5rkn9htQtCG+bc13//kBS4Iz3nBBTwdJIbrMnG3MkdTKfnH2lWj1RWMmj9fE/eZdzrltxdTjIv8Qrl6NL3l4djduTi64e/kT5GrA/LFjGTdDF5ugQHwUbckhiFP3ntPnrdqHS8XjENZM+DNLfJP7LCe0kHvVlIm/+wTNg3kDrL1d9WWUlNW+eR2Vp3PEaC7T1+3mSdFgo/gGblrNYOLinZy7fYUQy23YHUl6zeCrLx/9z+Rt1RSXVNLY0UdI+j//xZx3lPDizhE8FGXn6U+Qhxm6cyfw+RdL2O7nj7enG85Ovuw983hQq36r+AH2s9/nm23Xqe414MppTd/Nig//N5OtIyh5zf4pLdWllBQVU9XcOaCch8aomkfBG5gzbzMHYgZ3EpG9vIDdkinMtTlF1IM9mOhYcn4kHAflUhoriiguLqO2Tdqvvg4t7S/pyfDIV815jMZNRMfcFA2dnRy8m9PreE/+bQ76uePs7YOHvT0uHn54uVjhdvC20h+sLukcXjus8buUrGw4lU/P4WNlT0h4ukoZNRUQfykUTzdXnO1dCTgZi3IioOARx1wssHIJIDTQn8CDV0muHoTuvzGaBVz3NGbNonksWKyGmtqrvyUsnDsHA/+bpA42a1J0BYdZf2aMZiDxvW1ZTnN1CQVZ4teQg0GElUloqRSRK66lXTZI/uRtFB5czefj9XGw1kBr13kSXzU5Nmdy/8xB9gR742rvzIGbGT9jlSwl/uIePOzc8PFxwdHRCS9vD+xdAjmhGLm05nB3ty0WTkd4qCiIxmzu79uFrecJYpW9dQfVGbc56OuBh7sTTp77uZPTSntVKpd8rLF08iEkOAC/0NNEDzqiHQQDuRyZVIq0S4pUKkdeehLDGauwOpmgVBDKZ1IpMvkg+AyIrpQ7HvP54iM13KN6ex/kLbWU52ci6ibLkqp0HhxxY5drCME+h4l+UxIt76BWnIuospnO3jrQX5AGrm6dyOQ1phhrrsVu7w3SXvXhVmyFcSOMPUE+uDs5EnQmmryeQX1zJg8v7MPDbid++45xNW0wgqdKr6UkhSv+ljj4BOHvtgsrZx8CvV1x9jjPs7o6Mn8MZKeFO2GJVUgkTeT8GMguGy8uvKhXkZKqp1zc54+vpwv2u9w49khMkxRqE8LwtLXD2TeIID8f9lxOpGioBYByWW/5KeBojfRmnZY25mcUDvdypFIpXVIZg1VvxZ51GVfMmPPpJMx+7EtAVhdH8IpP+P0EU8KLBwW5P+A/OZfUFZMrKqdhCGbdcduKWd+twsBwJQZ2AZx+1tA32GrNIeKoOzY2zvgEBeIbcITrT8sGtaD1T7i5MJELvqqy8HXdhbWzNwGerrj4XCa1vpa0Kz7YWnlyOqUeaWcdGVd9sbP142pms1JxSMsTOL/HDx8vFxzsPTgRW0qLVEZlzFHcbexw8Qsi0NeXvdeSKRty7CtHJlO0oy6kCtia7+Gu8Pmyu6R0uJd3t7PB21ITKac3M+Oz6Vjf61ux3VUZifeSD/nDVCtuV6raoLylmMRTnjh578HfKZi7ZR1vqPy6aCjJo6C0jta+ptoPTimPnRczY7k2ulqb2Ol+mEc1ffWgozCKs762WNl7ExTsh/+By8SI+2RWRtRZyvM7h3Hb6UJwSCDH43saWL9kuk8lTWLu77bBwTuIQA97LBy8CPJ3Z9fOg0SW1lMYewx3CztC7ubRqCyTI7hZO3AoqntA2JLJnRO78fN0xX6namuHii7oeHmdPY422Ln5ExTgQ9CJCNKHXCSlMgwoy07R5CXPuei4joUagSTLUbaxLkX5DWoYkFCZHMzKT8aw+rC4byq3S8TVbeP43Scr2ZvUMOhApD8ajZmnsNHagv+d7O5p6g7ET5+SXlg5hH+xnLaaYgoLS6kdaiFR/nW8deYybo4+zi7GbD+a2zeYkjcgijqGq4UVLv6hBPkHsv9yMpV9Rd1fvFfOOymL34OphjlHkrvla80lJiGb6mZFBFmEB3jg4eGHt6stu1x9CPByxMLzJI8L2pCXPeaYkzl2e++Q2QpycSTHXCxxPvKAXOV4oJqXD88QrCC9jrtw3xtOaq2Mhoyb7LG3wNY9kJAAf0LC7vLyTXUIMDzyJbmF5ZTP+PB/fcQSv4fktPQpg+Lzrjj47OPcGXe0Zy5Cz+0s531M2eFyQOmY2XDNCvXpc9gclqcEvCjcgbWLFmNxvQoJIqKOObPJyJsb0VGcCXLG3PwAmYp54pRzWM//C4vcH/Mk/keOuxqy2uggz/5qP6cG8hMfcOvqFa6GX+PatZ/+rl6+zL1nIqoG6+Da49it/S2fz7Cl16WlOZUznjvY6nFXSb6kTWXkpWdS0iJH0iAmPTmNoqHb/SsV6tVLCXXn9Bnzp4/409g1HEiqpLM/B6mKItTcGGv/MzxIiOG0pSH2Rx+Q295BedZLcsubkXXVUfDiBdnl7VAfyREfdzwOnWWf2TLmL9rK/gsHcbfewa4rjdARx96Nsxm3zJ8khZmpNo4TOxYxed1xpfKtybxJgJEuu87H8Pj6SfxNN+KbKKGlKI6AZZ8y3Sqc6LhIroVuY6WOLxGlLW/YKQNVZ9g0Qwubs0m8WZ3uIOnQeiaPmcq2yz1WljYyL/thsdmZG4o5S1kJ8ccsUJ+pi+elSOKSXlLe3k69OJ0XBfVIpW1UZCWTnF8/zJHfq+WluJYRYTedrz78N/64wJObL5sGxtWSylkXM0x37eFmQixX3c3Z6X2UaCVBa+XFKVv01Fewfd8t4lKyEdV1UFeSS3p2Oe10UluQRkpGOQpvmYLE87iaOHPy0mFsl33DLOuThJ/xwkA3gJT6MlIP6fLlt0acymlFKmsg54guX82x43Z+MzJJAZcsdTANusTtx485aamN5ZkXlHZCxx1TJk9dg8OxuyTEhuOip8n2PQ/IeZVEDpJ9SbQv61frYHGheJCnr9ySFhDhuoQvvt7Ame7BTlfxY/ZtnsUXYzVwu1uiIj1djRSnPye3VoKss5rc5GRyajr7CNMr0b72MsYd9fEf8j9/OxuHy8nU9icAXakc2LCI+cttOJkQT9QBGww2WhD4UFGnpNSKs8nIVezf1k5V3gtSMyuR0klu9Clczdw5eWE/O9TGM2/Xaa6cdGejfijpTSU8CV3FF+O3cLGoHXlXFS/2avHlfCciS9uQtmZz1kwbs93h3Hv0gOM71mB9KYeqTjkt14wZN0UXj9P3iY+9hIOuJhaHYxD1cdWhs9vxEE9tLdbah/NaD1VJFj/unM8XE7ZyqbvhdYoiCDaYzhfj1+ATWa5S6vI6cm65oTlNA/sTt4mMe0FRmwxpaykZz3Oo7JDRVZ9PalIWlW1DzCAMLXHvk2fB2vzw0X/nN99bcTy6cgD5lWWdxEJjLnO2HCUhIYZjTpsw2OrJrd49GSQUPtyDqfoc1vmF8/hJMlkVUmRt1YjS0ylslCFtKSUr+TlFLZ00FD3A29iGw+GX8NUey0TDvVwND8FQ04F7hZWU3jZj8peaeD8S0yGT03hjG1NmbuJATCkd1BLhZoiJ834uRUdx1VEf8z13SG0F2TMvls1SQ9/jMgnx9wnapsMm55M8GdaqjgyuOuuzcGUwfesEe+EZeCKvI/f0BsZ+sBj/HneYhjSuuGjwzecz2Rb2gnoloWmjNCOFl8VNSJTXnTRWVFHfLlG2JXmGP4smrsbtRqZSX8tLrrFTeyO2u6+SUtVE2wDlM1CEIa/KIjlk8BX/9f/9Cg2Lg6QM6EPqeH7JmoWfL8Tl4RMSboXhsWk1G/cnKfd2kzWLeZGSTWX36gF5ez3l1Y3dg94uGqJ28v03GziaWoWUDnJObGapoR8XH+VQnX4QS+sgwsJPsGvRFNRMdnP5tAMbzQI5n9wFpccxmDGD5Y43UG4/ln2ELSvU0PZ8TK0Usq75Y7dlO0H3oog87MIuGxculMmpjwrGaM54VgXF8yT+IqE2BujtOMvLPlo0JBT9HwyPfPEY+6m/49//bMTpjOYBiqS5tJDyhg46Yr3QWWNCwMM65M3VVFZW0YSMtIOb0dUz52iWItlOUo45YbZ5J1cVBdCVyLHt6nyncQDlonRJA2WiUhR7kBfHHMF80TJ80lTilkf7sHLsXDyeDmOEJe+iS64Yc7+Lo5WCH13QmvIt03WdCN3rhdXKb/j9B1NZdzgHaV0BsYet2GpqyJodezi/xwXrbQass708qKn49RJ20Ry+ic9+81um7rpPkaR/rup45KbGbC0XrmapRn3ymhLKa7KJuXMZ/w3LMLKyxWX/OULM1rDGPJDwJ4WUlVfTKEnntKU+OqanKaSTZoW5WWE1LryO92ZNNLwSlaRJVnCPI7barD9aobRiiB74of3tNByfqSRvL8+nuAXq8m7hvHAWdt1LoSQFJ1g/dioWN0tRDkJen9G+EGUn2PDdCixOJr7xasc28V381k5l7Pfa2Ifsxc92NZPee59vVoWSJoOWF6fYqTmJzxc6cy0hm1qJhLqU07jbWaK/zJTgU6F4u1mxYZUxh1+0vnak2Cf0wLN4lxm895tP0DmSwkC3sE5SDxmgpr6J4KjuqdGmKiorKmiQQVvpXVw1ZjD1Bz2CY/Kp6uikLv8R+803sm3TOqz2XWSPgxmbN27G7UcxLQ2VFJe0UJMZjuOyWdhEdoKsiWJRJZLmQmL9NJi48ZxqewBJDUlBmixyikG54rz5MXaT/4L24QyVJbtORFFNK4rZmZLjOswy2E2kWJWvVM+FfLfKiWsZg41IBua9PdITXY1VmJ553ZKHdkqjQ1j72X/j//7/vkJ9izFGG9ayWkMTnS1unIwrUsnVWsuLC9642uixZGsAx0L88N1lwIoNe0mobX+7dp4SwNKP/40/Lg8hpvqVed3mB3iuX8cmr/sq8l91DftVamg6nONZfgIHTdezzdgAa0VZ7NqKoeE2fO6W0FxfSUlZG1Wp57BbNh/7GClIGykWVSFtzCXCYzmTNl1WraZsLyXOdwVL3BJpUlg1au5hMeEv6J3MVxGc2gLEte10yrooPKTFDMODJHS7zD11ns1kbR/u5b5i6RlYDKqr1nu4rlzBattLdBflYKGANsQRPqz66F/4f/7XtyzbZozhel20Vmiy1sSTs09LuqfNZbQX3CXEcCofTrfkxK1EShR9bWsm10O8sNNbjLHPIYICg3HeuIy1AY8oU2TwLY6sgzp89ZvfMtv1HiWvzEy2xQdjun4d1ldVjL3hgQ/rF81l6wXVSkhJbSJHzNSZ9KUabrefka1oai1lPD3hiNWO9azYHsKZ3R64WBigbXqc1PoaxIX1tNYmEbpyCkbnS2iTt1EmKqe1vYmC42uZoBVCosKcBRQdW4ua5UWSKxQMJoegRWNRs7+u0mPNJZRU1istyHU3dqCxzo5DT1QZKArbyAK19QQ8GsawUvqCi/Y6zF3mT8rP4ielIeMidj/8//zzf/mIWRuM2Wyoj+5KDbT0rdh9O5MahdjyFl5e30ugtRZzt4TxorIN6m/isM6Bk8mlSnLbfN2U2WvcuKLcI6eW1P06jBu/AD2bUG4k5lA+gDj9rFB9D2tjOar7Cf/y3nJ8XnWyl5aQEGbOoiXe3Ss6K0gI1OLbec5Eip9yztcZ8zVqWF2vpK29mbyzFui63qRIKUcn4hPrmKq3l6el7XSWROK55BPGaVrideQOyenpZJa3IG25i93i1dieTqFFseVQeTW1LSCJ92S11mbcrqsYe2u0D9tNrPF7qCirDh56aLNw3ibOKGd8WqgtK6JSIiEn3BPj5XrsV3ZvEl5etkF9oga7c/qyPJyzYZKvMhIuhnHxcd7AEWK/FNJDtFix0Znzmf3pn4izO3TQ3hhMrLJ/y+WShzmbTI6hlFPeTMH9QPSnT2DO5hAelPREWEXSuZ1ozLLmjrKvl1GWvA+D8TNxjG0f0pIil5QRc8SfkP0e2B+Io6ax/3C2J+4R+O+sQ/T0DhfCjhIWdpywE6e59PA5hQrt2dFEVco5fDfOZMx8D2JzkjWajdkAABbFSURBVPlx3xbmjjPl1jD6yp9KJ0NS+JjTx6/ypKxtoKKpu47J5Gls2B9L2YD+TUJtaRF3ds3j+9ma2F0touCuPUvVddl5tlshFp/Hep02+gHxfSZqoPphMNu11LG4qVKylTEncF63Cu/ujWY6qpI5Y7GISdPW4HixW2nTQlGMHysnGXK2VIV5W/lVzCdMxuRqsVK5/DRfP3OnIYbDrsGcicnvm97+meADH0loKEri/oUwjoWFcTzsBKcu3ic5X7UytyHxFDtXfc+a/dnU1DbTIZHQVpvJw3N2LHx/CmbhqaTE38Bh/hh0T5XRqhwdDkxhOFeViZc5ceEhma8q9o54vNRnscLyNGmDVE+p6AK2uivRtL1CWX0T7V2dtDVUkhS2C72ZX6IWkELuswv4Gs5nulVktyjtZN/2YM3U9ZzqtwpfUp7MYf3xLA3NVE4ZSBuyOLZhFiaXi2hQ1BdpDc8OGLNg6ix03G+Q3TttUM/1bT+w0uU6z7v5YfYeDX7Q2sXV568nX5KXN9gXEsop5VLPn0NLSktFLs+iHhD5OIbY2GiiHj0kMiaJ7IpeYZB3dVCXG8MtDzX+NH4LJ2OTSY3yYPHHq9ifXT/AIvJzqQ14VpvCjVPnuP28rG8KpCdAcgiGuhuxPpOram919/DW02Cp5VnEjdWkHLZAa8a3aIS8IDfxBC7rFzLfIbb77RbSrjih9cMmzvdzW+gUx7J77UQ09uUr+y9J1XMOrpvN9usVqumcrkriQjcwZ+pc1vvd7dvXTF7F5c1TWeV1n8xufZ0RqMZ32u7cfjmMDqUznauhwew5n/iaLTS6aC7L5unjB0RGqcri8aNIHsUmk1s5sMzb8iMJ0hnHYp9EiivraZPKkUrqESVFEqTxPmP1D3LvWQbJQUv5dHkgL99yR+GG9DucO3udJ4NsePvyuBkb1hpzIF3VQJti9rJVYy6bTqiUiLz6MYd2aDJd/yh5tXU0dYK8s4WajFsct5zHB9/bcjsjhejLNsz73IDz3e5KjZlHWT9uBcEvGvv6xc4qrptMZL7jfURKpd/ANZN5GO6PJV9ZTdvIu+LA6ulTWWx2jLgeoztdxLotR8s0iFvdRuCKS2YsXb4On3uv90lFVkzipX14Bd16zR5tcjrri3gRG0nk42hVO3qsOE/gRWF9n76US6gTvSA+cDmfLQsksbgFaawtU2dZcDa1RhkuwWkOi3ecIEapUDqJc13E/PWunIwvpaahpfvzdj0NZZj/HWWkR1zg5LVndM9a971Yk8xlBw1+2HEbJbSycl4c3siEmbt41FhNVkw4ros/R+dUOQ31JVzZNJY5LjGqL+rIari5fTKLnCMoaJIja/wRsymzMDnygLTyGhp7CPsTVxYtMWH3A3EfFopJyb1rWaFvx4kXqo447cB2tpq5cElZVjIa0i7hsnIqE5dYcbTXVCnmXrApK5e5E6N8rYPsO+7oTFmKf7ehqC9zP382TPKl8CMYoN1fibWU08bL0LM+SkJfnwn1t3HX12W9y21Vw6+6jb/lJjb6JvRZFGRNlD45ho3GbBbo7yZBQdJa07nlrceM9WdQ6ZJq0k5vY/pkE8JrFHJIqMuO5MqZM1y8lUyJ4h1pFRmXbJg/U5udey8SlVVF5wAr0Ssij8SlvJO21o4BlkBFtHLRPXYbL2bVbkVH28jzMztYOGMXj/rz0jdKXz64v0yyJwsnauNxN3cQBdTATZvVrDXboyK+Sb7orjHA5YqqF6i/646h7jrsb/VfP9jGszBb9JcZEaYcDDSRctETw6WW3O7X/3bWZHDDz5CF09VwiGgESSXpxw2ZvHw3mcoK30llpANzvtHjUMZbfPpI1k5TfSPN7ZIBjeWNIEOOpK2V9gEER0ph5H7M1TUIGNBQ6si5asW8BS7EdUBXZTSeiyew5Wo1bW9JvpAPMd1SeASD2cvZvDduUP/Ajid72W6gj8UlhaWx55CSfdUTQ3V9Divmjmqi2L9tMYvdElQBJAVE7zNixrJgMnqbqYzazMtYzpyFQ5Rqfqq1OBzzGWvYl1HfRzg6Ksm47oPeD5PQDomnRNl+43GZuxCL00ndK+JKOWMwDbXtR4kbht+lXNJKY6Oi/N66wvdkvO+/tZgHDvOZY/uQGuS0pQWw9NuNnCx4vR9LXyT9z4ZoUwqrxqlt6Oqbse+pSv72hGCMlqtjcChXGUHGWUc2rNjMCYWSrbhD4GY1Vvj0jE6yiAgyYNaqfWT3Jiel4vkZzGbNwzVe0VnJaMy7gMkMHQ7nNvcp+bZyUi+7s2baFNbtS1JZJ7uicJi5EJvLad0O8mLC1k5B3fo8ScP5Xoy8k5bGRhpbftpP9Yr3Ridy6rKu4bB4Dg5R/Tt76KqPw3PRLLaHKz5DJKfogCbj9A6Q9bbfnhuqDVFGuP0G1q73QeXa2UHqcTNWzV9DUIpylI805waBJivQ2tNXCspsVqVwbsc8Frun0EkHxQ+cWDTJjBvKlTxNFN3YwQ+znHhY3WdR7WqIw33B95iey1FZ4iWxOM1ficedzL5NoGUNFMYdxWTeBJbYXSBVOa2YzX7d5Ri6XSFD2Y80cN9xBWra9lwUDadtdNHR0kh9w9tb4H9atO0kuMxDzTmC/HoJWYFLmGV6muQKRceRyx7NWRiGRpKr7DfLOGukhqHHFdKHI+5PE+u+I2cod93WrNv4r5vB2hPd/V1dOhfMpjNxy3Ul1m2lN7CapUFIRiMNlZE4zJ7NzvvdA5aWeNzn/8D2C9mqTyfl7mHlHBOOPu3fd0LBvtUsMPAh/KWqbqiEquLS9uWsNd9PjJL1lXDByogt1kd43pvXLupEj9izeQEzl5txXOEP1RrLMVtdFpvf6CaLIiKDNzBjjj0PBzaHIdHoeTBM8tUTfIj/5lvYqq9iW1DEwOXL+SfZoaeH0R5Vx1T/IADLTZtwU3x+R1ZKfkYSSUpDTCfJxy1ZOduAs4pGILrPns1zUQ9U5BbqMy5gv2I22ruf00onNfnXcDP15fqTBG6cDCe9XYq0JZubljMZr+3HmaiinxCiISR/J7eLI0IxXbYYF0W2K2MJ26HGEscoVWGNZIqpPiyZth6/+3kqMluYQEJaEaWKStD1ECf1lWwNeEAtMhI99dE2cie8SFGzJDwJ3YSOjjknBmwgU8GDYFPWLLXnvqIttqRyxXczGtuu0oCM+oocnsRlq4hecSTBOpNYdqCYzposrlnOYqZDjDKPXeWPCNKZjrpzBOKR+sj4iOBWScJJGzTnWHGnv9GgLp2bTupM2X5PMQFL4X0X1Gdu50rRMKa431Qu8XGMFq3G5ECCahqn/Dmpz1+S0z0Qzjm5gw26m9id2p/15XPDYxMrNAJQcMbS+yGYLF2J55NuRlz+hJM7FjLD7lEfqaKDspT96I/T4oCyo2+j+JYNCzQCeVrbhkxWztPHqSoFTyORVlP5wfwKaQprTcFuNKZvJPRRobJeld3cydL56/G5mfc3+9h0i/gRPsvHY3Slga7WahL9lzF90xkyG3p7yjctiSHC1/Kj3Wp0NnlzT9EXtadyasdKlq734b7CEYQcLjoYsFJ3DwpPCvF1bzYv18Y/qbtCFT/isOki5jnF9Q0wFVN6CSHoTdDhqII8yxvID7dgwao9vGjqoKuzhMTHqdQqi7yG22aTmG51i7xGOWQHsnTaJg4+KVUORIquWbBkviEhD4uG3FdpiIyN0O0mCh75sGqyIecq+mPfTk1KMCvHrSdM3EJ7azr7Vk5n/aFnlPfu9jlCIjQ+wMdQBx2ba0ry05V1GUddNbTsf6SsW7+WPdyDxcrF2EUOGH1Rk3KBneo/YPFQDg0vuemoxhyLWyi5R1sxUe6LmWh8iaLerRpkdFRfYdt4NTyiVFOvkmeeLFvuSHhaNTLqSIlJRlyrMrOk+S5m9oYAflTsmVJ/gS1L1mJ9NFFp3WyKC8ZAXZPthxKVLgYjhMYbRSNtfkHgsmlsO5tBaUEEjrO/YIV/HPkKn+TGi2yZpoVLeIqK6Hfcx26uJpaHoxHLpUg62kdYr0oofLQX4zlq+CoHw/VkXXFAY7Y2Qc8UA8ZmiiIclYaLiIpyUk9vYspX6wnLUy0W6iw4jM54HXY/LVbOkDReNGLSSm/uZlch6eikS1n0tVzcPBOtXWdJHLAYM529OppsdDiv9DGn4ir2RsZY7ntGJxIKM17wPF01z9/80BsjjeVYRija41mc1y9B74jCOiGnNHovpuqL2BSW2/dFgWGWyAiQr3YKLpkx7aOvWeF1H8X8f+/RkcoJuw1o6tpx4NQ+nE23YRt6B+WilMpIjlhqMndDAOcvHMTDejsWAQ+plbaTH26P+lfvM83QhwBPZ+xsduJ1KgqV9VlOQ344tgsXsSn0Nqkl9cpVgtLGAs5vnolhWDpFTYPsl9Ur1Ls+aSD5zFam/elrVrvsJ9RxG4bme4js/TTQCKbfkc7xbWvQt/DkwIm9WGtoYHksBqWuzdrD2glfM1nXkZAAezZv3sn+h2KVwq+IxFfjSz6bZkJYVv/RgATRnSC2L1/G1tBTHPG1wXS7C6czFA2hkcw7Xqz5YTUuJ88TFuLM9i1OXM1vpjLhAOvH/4FxOo74eHvgaGuN0/5bvPylfXOy5TnX3dcyQ+/EAOfjdnEU3kve58PFVuzb54nFxk24h+e+mw8rdxVzw9UI/Y3WBJ08goveKow9zqHS3VXcdN6Azlp37vd3pq6N5qD+ZD6YoI/7vkB2bt2M9eF4lR8H7RTd82bF1x/yvcUtyns5m4yWokiC1sxhteMhjh8JwNZwM153i5UOw10VlzGds5Rt3kc4c3YvthuMCYzIp7Grnqc+6oz5yxz0rNwI9HTA0tKdwxE51Iy0Eh12U+ik6nkoKz96n9kmoez3s2GjgRPn0uqVvp3DjmYYAbsKr2Az9xu+maaDbYgvzrYW2Hmf4lFet4Wt6j7B2hP56DtDvPb6Y7NlCzuPP0W140gr+dedWPLlx8zeGdFvHyMZTfl38Vk1B23XI4Qd8sHaaCt+DyvokstoFZ9l60x1tgce58zpUKw3bCXkcTHNXZXEui3k47/Mx8DWgwAPByytvDj2KI/6d23VHworSTHJhzcyWT2E9P71QdqIKEyXz96bzka/vQTsMmK97QkSK4a7ZcFQCb56X0rZPVdWTPya8RpWBPu5sNPCFvcj98mo6+nLmnh2cie6Cn+d3ilARTyt5Ec4Mv+9T1G3PcBed3M2Gvtws1BBnGU0Pj/F1u/e44u1R3mhcCFRHnJkrS85YbgAzR3+HDq+H5dNG9h5NpUKxVLnjke4aixnvVUgJy8dw9nICOczTyjrkJJ/yojJX05moaEDwT6OWO9wIPDyU4qa+5PW7mRG6U/amkrQ0rHM1tnOTr/92Cz8itlrjLA5lUKV6Bxmc+ejrmXCwbgSWjoS8V8xh/mLV2HocYoHGYqFJSN4tORy00Wdr/70PQZe/ni62GFj58WJR+LuvreJ4ohdzPrzXDY5u+Dtb8qsMbPZYOPLtexGGnOPovPtLFZvdeTs82rKrlsyfdoSdAxM8bmUTEkrdGQdZcPY95m48cgrixxaiA/cjI72ZlyOnCDEbhMmrieIUurpQq55GbNS3YTdl86z194Mc6djPKtvI/34FmZ/MYa5JoH4uztiY+NI0OVEXpmZHxZII0C+ZLTXFJOXnYO4up8JXZm8lNZqMRlPonkcl0ByZjHVPTu5S5qoLnhBXPQjYuKfkJIppkrpmS2jrb6U/OxsCopKKBKLKCyqoKG7XcllMjqaayh6doVg4xUYHMlRjiok1Y9xWbyKoOTqN2agw0JquIGak7noqs00dVfuJD0lIekloqo3tEcONy3FwLxGzMukOKKio4l9koG4pkU5jVF4bD3LtDbjEBbD89Qk0sW19C5S7WygQpRNdn459a9sSyxrb6QsJ4nYxzHEP00nv7yue0pTSntDMZlPYngcE0v8s3TyylQKSdJcSWFOFvniYorEhYgKS6jpN035Btl5h0HltGdeI2DTIlbvy+nnO9dJccJBNk6ahdWVWGLin5KWW0pTT9/7DiSSNJST+zyB6KhoouNSyS2vRzHJIauPwHfTOtbZ/9g93a5KvDH+MLarZ6Pp9YCUpCckZRX1+/SVjI6GcmV7EZU3Dpx+lnbSWJrB05hoohOSycgvo6ffl0vqEL9IJDY6mpiEZNLzymlRrFKhi6ayAnJyCygsKqJIXEBhWcPAeN8BJj8bZVclL89uZtI0M04/jCL+2Quyit92uvFnU0LeXktpQS65eYUUlxQhKiiistd5BOofhbBDaz7afg9JTUokObuE2l4rqlTZd+VlZSOuaBqImbSD+uI0EmMUeKfysqCCHuOKrKMaUWoCMYqyeJJCRkElrUotJ6GhNJ/snrIoLKCwvJ8v0s9n5R08ldNV9oyzZnNY6PF0gD+krLGQH82m8P3WY9x8EM+z5y8prPsrVqMOKb3Cv6kcUW4OuYXFlBSJKBBXUN+vv5Erdul3MUBN/+iATXvpyOXxbn0mz7XjWkI8Cc/SVavBu9NSWFSV/VhxLa3SflYEuUKP5ZKaoGivT0nNElPXQzxljZRlJpMQHUV0/DNSM4upb1MUnpy2qiLycvMoEBdTLBYhKq7p64OHzN87fiDvoCbnCY9jk3lZVE117lPin6aSVdqEpLMJcWo8CUkZFNZ3IJV3Upf7lOioWJ5llVLf2kNuR0hGaTsNZflkZxcgLilCXFhIUXlD3zQ8MiTNpWTERhKfnkdJVTmZ8TE8zSikqrVLuV1LTmIMT17kUtYsoau1nIy4SKKfpJHfvQ2QrLUScU42eSV1tA00gtLVVE7+83iio+JJTM2mtK61m1x2UF+WQ0psFI9jE0hMzaFUuY+GjJZqFddRcpNCEYUl1W++oKwbvhEgX8MrCFn/yjzgFRldQz4bEFB50VKezjmnHQScOkGouT5WVxWrNKQ0Z4Syat5ObhWP/rerBkhZcBt/3SlM2Hi8nwPzgBDv4EKxl1J/ttDEHbt5zFhowqGnSmeGN09TNvSmdYq9gvqn9uaRj/4bHdVJnHfdxgYjD+5X9Ze+mrTzpvzwlxX4PKkacUvKz+VUsX9Z79GQx/3AzehvceHkAKd2OTlXHVg55Qe2nlWsS32bQ6ba82mwV+WKfYMGe/ALutdUwB27mXy22IUHRQpvor/VISX9tAXLp85hx+XSt7QCSBmyu/uFl0VXczZ39tixQduKSwUDa2J7eRQe8z9jns1NMhv/hhWqrYLEsJ0YbzTB73E/Z3NFlalI5KTxd3ypFUpyrfwt6tHPtCNkyj0K/1Y1U0j37RGQ/0wHKOvq10e/fRKDvjlq5GvQ1N/ipkzSTo04m+zMTHLFlTR0KPaXKSPlgB5zt18hv+EVevsWafxVr3S2UFcqQlzRoFyy/1fF9dYvS2mqKqGoSDEi/Bt2hG8t/0i/KKW1voiXyWkUVLa8ojS76GisQFxYRu3guz2OtDCDxiepKyH3RSrZpY19H8TtDtnRVE2JSGWB+dsRj0HFHp2bsk6aK8WIFKPMgTp/dNLvTUVOe2MVJSLFDuCqfZF6H/3Dn8jobKkgO/k5OaU/tb7Ju1qpLhJRUtnUz+9w9EGRNlcjzkgmvbBmgGVOKYmkncbyQgrLfmoFGX1JhRR/7Qj83ZGvnxSYrJncH4Ow2mbH8eTagRuQ/iSwcOPXioB8qOU2vxBAFNPpv0pi9QvBXxDj9Qgo2tAvvBkx5Crj12dPCCEgMKoI/P2TL+R0tbfQ3PIOVqaNalEIiQkICAgICAgICAgICPwaEPg/4qEbQYp31F4AAAAASUVORK5CYII=)"
      ]
    },
    {
      "cell_type": "markdown",
      "metadata": {
        "id": "taLrTDFGtgWa"
      },
      "source": [
        "![image.png](data:image/png;base64,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)"
      ]
    },
    {
      "cell_type": "code",
      "metadata": {
        "colab": {
          "base_uri": "https://localhost:8080/"
        },
        "id": "mMSoIBhDtQh6",
        "outputId": "a6e8deb7-1da8-4a92-b933-d727b96c8ad0"
      },
      "source": [
        "!git clone https://github.com/byronacunia/UFCA_estudo_mercado_livre.git"
      ],
      "execution_count": 1,
      "outputs": [
        {
          "output_type": "stream",
          "text": [
            "Cloning into 'UFCA_estudo_mercado_livre'...\n",
            "remote: Enumerating objects: 48, done.\u001b[K\n",
            "remote: Counting objects: 100% (48/48), done.\u001b[K\n",
            "remote: Compressing objects: 100% (40/40), done.\u001b[K\n",
            "remote: Total 48 (delta 13), reused 0 (delta 0), pack-reused 0\u001b[K\n",
            "Unpacking objects: 100% (48/48), done.\n"
          ],
          "name": "stdout"
        }
      ]
    },
    {
      "cell_type": "code",
      "metadata": {
        "id": "1xZ1hmix58y-"
      },
      "source": [
        "import pandas as pd"
      ],
      "execution_count": 2,
      "outputs": []
    },
    {
      "cell_type": "code",
      "metadata": {
        "colab": {
          "base_uri": "https://localhost:8080/"
        },
        "id": "QmcF4kYJ6ux8",
        "outputId": "a5ef377a-c211-4de9-894b-9c1ce5bec6f5"
      },
      "source": [
        "abas_de_excel =  pd.ExcelFile(\"/content/UFCA_estudo_mercado_livre/Raw Data/UFCA.xlsx\")\r\n",
        "abas_de_excel.sheet_names"
      ],
      "execution_count": 3,
      "outputs": [
        {
          "output_type": "execute_result",
          "data": {
            "text/plain": [
              "['Apresentação', 'UC1', 'UC2', 'UC3', 'UC4']"
            ]
          },
          "metadata": {
            "tags": []
          },
          "execution_count": 3
        }
      ]
    },
    {
      "cell_type": "code",
      "metadata": {
        "id": "8Lwyw8Qt6w8N"
      },
      "source": [
        "UC1 = abas_de_excel.parse(\"UC1\")\r\n",
        "UC2 = abas_de_excel.parse(\"UC2\")\r\n",
        "UC3 = abas_de_excel.parse(\"UC3\")\r\n",
        "UC4 = abas_de_excel.parse(\"UC4\")"
      ],
      "execution_count": 4,
      "outputs": []
    },
    {
      "cell_type": "code",
      "metadata": {
        "id": "YnDKH1yDEcb8"
      },
      "source": [
        "demanda_contratada_UC1 = 139 #[kW]\r\n",
        "demanda_contratada_UC2 = 160 #[kW]\r\n",
        "demanda_contratada_UC3 = 600 #[kW]\r\n",
        "#Tarifas de consumo e usos\r\n",
        "Tarifa_total_FP=0.40733\r\n",
        "Tarifa_total_P=1.81318\r\n",
        "TUSD_FP=Tarifa_total_FP*0.22\r\n",
        "TUSD_P=Tarifa_total_P*0.74\r\n",
        "TE_FP=Tarifa_total_FP-TUSD_FP\r\n",
        "TE_P= Tarifa_total_P-TUSD_P\r\n",
        "RetencaoFederal=0.0620\r\n"
      ],
      "execution_count": 5,
      "outputs": []
    },
    {
      "cell_type": "code",
      "metadata": {
        "colab": {
          "base_uri": "https://localhost:8080/",
          "height": 126
        },
        "id": "igozcwpk7cru",
        "outputId": "0e6efde1-8cec-4c78-8508-ee6acc1d420f"
      },
      "source": [
        "X1 = UC1[UC1['ANO']==2019][['MÊS','ENERGIA_PONTA', 'ENERGIA_FPONTA', 'DEMANDA_REGISTRADA_P', 'DEMANDA_REGISTRADA_FP', 'DEMANDA_ULTRAPASSAG', 'TAR_ULTRAPASSAG', 'TAR_TUSD_KW_FP', 'TAR_DEMANDA_FP_SEM ICMS']]\r\n",
        "X1[['DEMANDA_ULTRAPASSAG', 'TAR_ULTRAPASSAG', 'TAR_DEMANDA_FP_SEM ICMS']] = X1[['DEMANDA_ULTRAPASSAG', 'TAR_ULTRAPASSAG', 'TAR_DEMANDA_FP_SEM ICMS']].fillna(0)\r\n",
        "X1[['Differença Demanda']] = X1[['DEMANDA_REGISTRADA_FP']] - demanda_contratada_UC1\r\n",
        "X1[['Valor Demanda']] = (X1['DEMANDA_REGISTRADA_FP'] * X1['TAR_TUSD_KW_FP']) +(X1['Differença Demanda'] *-1* X1['TAR_DEMANDA_FP_SEM ICMS'])\r\n",
        "X1[['Valor Consumo P+FP TUSD']] = (TUSD_FP*X1['ENERGIA_FPONTA'])+(TUSD_P*X1['ENERGIA_PONTA'])\r\n",
        "X1[['Valor Consumo TE']] = (TE_FP*X1['ENERGIA_FPONTA'])+(TE_P*X1['ENERGIA_PONTA'])\r\n",
        "X1[['Valor da conta no cativo']] = (X1['Valor Demanda']+X1['Valor Consumo P+FP TUSD']+X1['Valor Consumo TE'])-((X1['Valor Demanda']+X1['Valor Consumo P+FP TUSD']+X1['Valor Consumo TE'])*RetencaoFederal)\r\n",
        "X1[['Valor consumo TUSD_P']]= (TUSD_P*X1['ENERGIA_PONTA'])\r\n",
        "X1[['Valor consumo TUSTA'])\r\n",
        "TOTAL_VALOR_DEMANDA_UC1 = X1[D_FP']]= (TUSD_FP*X1['ENERGIA_FPON'Valor Demanda'].sum()\r\n",
        "TOTAL_VALOR_CONSUMO_P_FP_TUSD_UC1 = X1['Valor Consumo P+FP TUSD'].sum()\r\n",
        "TOTAL_VALOR_CONSUMO_TE_UC1 = X1['Valor Consumo TE'].sum()\r\n",
        "TOTAL_CONTA_CATIVO_UC1 = X1['Valor da conta no cativo'].sum()\r\n",
        "TOTAL_VALOR_CONSUMO_TUSD_P_UC1 = X1['Valor consumo TUSD_P'].sum()\r\n",
        "TOTAL_VALOR_CONSUMO_TUSD_FP_UC1 = X1['Valor consumo TUSD_FP'].sum()\r\n",
        "X1"
      ],
      "execution_count": 6,
      "outputs": [
        {
          "output_type": "error",
          "ename": "SyntaxError",
          "evalue": "ignored",
          "traceback": [
            "\u001b[0;36m  File \u001b[0;32m\"<ipython-input-6-93fb730c8c09>\"\u001b[0;36m, line \u001b[0;32m9\u001b[0m\n\u001b[0;31m    X1[['Valor consumo TUSTA'])\u001b[0m\n\u001b[0m                              ^\u001b[0m\n\u001b[0;31mSyntaxError\u001b[0m\u001b[0;31m:\u001b[0m invalid syntax\n"
          ]
        }
      ]
    },
    {
      "cell_type": "code",
      "metadata": {
        "id": "8fHVfJ86ftUc"
      },
      "source": [
        "print(TOTAL_VALOR_DEMANDA_UC1)\r\n",
        "print(TOTAL_VALOR_CONSUMO_P_FP_TUSD_UC1)\r\n",
        "print(TOTAL_VALOR_CONSUMO_TE_UC1)\r\n",
        "print(TOTAL_CONTA_CATIVO_UC1) \r\n",
        "print(TOTAL_VALOR_CONSUMO_TUSD_P_UC1) \r\n",
        "print(TOTAL_VALOR_CONSUMO_TUSD_FP_UC1) "
      ],
      "execution_count": null,
      "outputs": []
    },
    {
      "cell_type": "code",
      "metadata": {
        "id": "BlXdXjU7bNtK"
      },
      "source": [
        "X2 = UC2[UC2['ANO']==2019][['MÊS','ENERGIA_PONTA', 'ENERGIA_FPONTA', 'DEMANDA_REGISTRADA_P', 'DEMANDA_REGISTRADA_FP', 'DEMANDA_ULTRAPASSAG', 'TAR_ULTRAPASSAG', 'TAR_TUSD_KW_FP', 'TAR_DEMANDA_FP_SEM ICMS']]\r\n",
        "X2[['DEMANDA_ULTRAPASSAG', 'TAR_ULTRAPASSAG', 'TAR_DEMANDA_FP_SEM ICMS']] = X2[['DEMANDA_ULTRAPASSAG', 'TAR_ULTRAPASSAG', 'TAR_DEMANDA_FP_SEM ICMS']].fillna(0)\r\n",
        "X2[['Differença Demanda']] = X2[['DEMANDA_REGISTRADA_FP']] - demanda_contratada_UC2\r\n",
        "X2[['Valor Demanda']] = (X2['DEMANDA_REGISTRADA_FP'] * X2['TAR_TUSD_KW_FP']) +(X2['Differença Demanda'] *-1* X2['TAR_DEMANDA_FP_SEM ICMS'])\r\n",
        "X2[['Valor Consumo P+FP TUSD']] = (TUSD_FP*X2['ENERGIA_FPONTA'])+(TUSD_P*X2['ENERGIA_PONTA'])\r\n",
        "X2[['Valor Consumo TE']] = (TE_FP*X2['ENERGIA_FPONTA'])+(TE_P*X2['ENERGIA_PONTA'])\r\n",
        "X2[['Valor da conta no cativo']] = (X2['Valor Demanda']+X2['Valor Consumo P+FP TUSD']+X2['Valor Consumo TE'])-((X2['Valor Demanda']+X2['Valor Consumo P+FP TUSD']+X2['Valor Consumo TE'])*RetencaoFederal)\r\n",
        "X2[['Valor consumo TUSD_P']]= (TUSD_P*X2['ENERGIA_PONTA'])\r\n",
        "X2[['Valor consumo TUSD_FP']]= (TUSD_FP*X2['ENERGIA_FPONTA'])\r\n",
        "TOTAL_VALOR_DEMANDA_UC2 = X2['Valor Demanda'].sum()\r\n",
        "TOTAL_VALOR_CONSUMO_P_FP_TUSD_UC2 = X2['Valor Consumo P+FP TUSD'].sum()\r\n",
        "TOTAL_VALOR_CONSUMO_TE_UC2 = X2['Valor Consumo TE'].sum()\r\n",
        "TOTAL_CONTA_CATIVO_UC2 = X2['Valor da conta no cativo'].sum()\r\n",
        "TOTAL_VALOR_CONSUMO_TUSD_P_UC2 = X2['Valor consumo TUSD_P'].sum()\r\n",
        "TOTAL_VALOR_CONSUMO_TUSD_FP_UC2 = X2['Valor consumo TUSD_FP'].sum()\r\n",
        "X2=X2.fillna(0)\r\n",
        "X2"
      ],
      "execution_count": null,
      "outputs": []
    },
    {
      "cell_type": "code",
      "metadata": {
        "id": "zR9nOI8OdKz1"
      },
      "source": [
        "print(TOTAL_VALOR_DEMANDA_UC2)\r\n",
        "print(TOTAL_VALOR_CONSUMO_P_FP_TUSD_UC2)\r\n",
        "print(TOTAL_VALOR_CONSUMO_TE_UC2)\r\n",
        "print(TOTAL_CONTA_CATIVO_UC2) \r\n",
        "print(TOTAL_VALOR_CONSUMO_TUSD_P_UC2) \r\n",
        "print(TOTAL_VALOR_CONSUMO_TUSD_FP_UC2) \r\n"
      ],
      "execution_count": null,
      "outputs": []
    },
    {
      "cell_type": "code",
      "metadata": {
        "id": "3qvXEnYVcttE"
      },
      "source": [
        "X3 = UC3[UC3['ANO']==2019][['MÊS','ENERGIA_PONTA', 'ENERGIA_FPONTA','DEMANDA_CONTRATADA_P', 'DEMANDA_REGISTRADA_P', 'DEMANDA_REGISTRADA_FP', 'DEMANDA_ULTRAPASSAG', 'TAR_ULTRAPASSAG', 'TAR_TUSD_KW_FP', 'TAR_DEMANDA_FP_SEM ICMS']]\r\n",
        "X3[['DEMANDA_ULTRAPASSAG', 'TAR_ULTRAPASSAG', 'TAR_DEMANDA_FP_SEM ICMS']] = X3[['DEMANDA_ULTRAPASSAG', 'TAR_ULTRAPASSAG', 'TAR_DEMANDA_FP_SEM ICMS']].fillna(0)\r\n",
        "X3[['Differença Demanda']] = X3['DEMANDA_REGISTRADA_FP'] - X3['DEMANDA_CONTRATADA_P']\r\n",
        "X3[['Valor Demanda']] = (X3['DEMANDA_REGISTRADA_FP'] * X3['TAR_TUSD_KW_FP']) +(X3['Differença Demanda'] *-1* X3['TAR_DEMANDA_FP_SEM ICMS'])\r\n",
        "X3[['Valor Consumo P+FP TUSD']] = (TUSD_FP*X3['ENERGIA_FPONTA'])+(TUSD_P*X3['ENERGIA_PONTA'])\r\n",
        "X3[['Valor Consumo TE']] = (TE_FP*X3['ENERGIA_FPONTA'])+(TE_P*X3['ENERGIA_PONTA'])\r\n",
        "X3[['Valor da conta no cativo']] = (X3['Valor Demanda']+X3['Valor Consumo P+FP TUSD']+X3['Valor Consumo TE'])-((X3['Valor Demanda']+X3['Valor Consumo P+FP TUSD']+X3['Valor Consumo TE'])*RetencaoFederal)\r\n",
        "X3[['Valor consumo TUSD_P']]= (TUSD_P*X3['ENERGIA_PONTA'])\r\n",
        "X3[['Valor consumo TUSD_FP']]= (TUSD_FP*X3['ENERGIA_FPONTA'])\r\n",
        "TOTAL_VALOR_DEMANDA_UC3 = X3['Valor Demanda'].sum()\r\n",
        "TOTAL_VALOR_CONSUMO_P_FP_TUSD_UC3 = X3['Valor Consumo P+FP TUSD'].sum()\r\n",
        "TOTAL_VALOR_CONSUMO_TE_UC3 = X3['Valor Consumo TE'].sum()\r\n",
        "TOTAL_CONTA_CATIVO_UC3 = X3['Valor da conta no cativo'].sum()\r\n",
        "TOTAL_VALOR_CONSUMO_TUSD_P_UC3 = X3['Valor consumo TUSD_P'].sum()\r\n",
        "TOTAL_VALOR_CONSUMO_TUSD_FP_UC3 = X3['Valor consumo TUSD_FP'].sum()\r\n",
        "X3"
      ],
      "execution_count": null,
      "outputs": []
    },
    {
      "cell_type": "code",
      "metadata": {
        "id": "Ktt_tVgSctxS"
      },
      "source": [
        "print(TOTAL_VALOR_DEMANDA_UC3)\r\n",
        "print(TOTAL_VALOR_CONSUMO_P_FP_TUSD_UC3)\r\n",
        "print(TOTAL_VALOR_CONSUMO_TE_UC3)\r\n",
        "print(TOTAL_CONTA_CATIVO_UC3) \r\n",
        "print(TOTAL_VALOR_CONSUMO_TUSD_P_UC3) \r\n",
        "print(TOTAL_VALOR_CONSUMO_TUSD_FP_UC3)"
      ],
      "execution_count": null,
      "outputs": []
    },
    {
      "cell_type": "code",
      "metadata": {
        "id": "mIgcI5hkiw5P"
      },
      "source": [
        "X4 = UC4[UC4['ANO']==2019][['MÊS','ENERGIA_PONTA', 'ENERGIA_FPONTA','DEMANDA_CONTRATADA_P', 'DEMANDA_REGISTRADA_P', 'DEMANDA_REGISTRADA_FP', 'DEMANDA_ULTRAPASSAG', 'TAR_ULTRAPASSAG', 'TAR_TUSD_KW_FP', 'TAR_DEMANDA_FP_SEM ICMS']]\r\n",
        "X4[['DEMANDA_ULTRAPASSAG', 'TAR_ULTRAPASSAG', 'TAR_DEMANDA_FP_SEM ICMS']] = X4[['DEMANDA_ULTRAPASSAG', 'TAR_ULTRAPASSAG', 'TAR_DEMANDA_FP_SEM ICMS']].fillna(0)\r\n",
        "X4[['Differença Demanda']] = X4['DEMANDA_REGISTRADA_FP'] - X4['DEMANDA_CONTRATADA_P']\r\n",
        "X4[['Valor Demanda']] = (X4['DEMANDA_REGISTRADA_FP'] * X4['TAR_TUSD_KW_FP']) +(X4['Differença Demanda'] *-1* X4['TAR_DEMANDA_FP_SEM ICMS'])\r\n",
        "X4[['Valor Consumo P+FP TUSD']] = (TUSD_FP*X4['ENERGIA_FPONTA'])+(TUSD_P*X4['ENERGIA_PONTA'])\r\n",
        "X4[['Valor Consumo TE']] = (TE_FP*X4['ENERGIA_FPONTA'])+(TE_P*X4['ENERGIA_PONTA'])\r\n",
        "X4[['Valor da conta no cativo']] = (X4['Valor Demanda']+X4['Valor Consumo P+FP TUSD']+X4['Valor Consumo TE'])-((X4['Valor Demanda']+X4['Valor Consumo P+FP TUSD']+X4['Valor Consumo TE'])*RetencaoFederal)\r\n",
        "X4[['Valor consumo TUSD_P']]= (TUSD_P*X4['ENERGIA_PONTA'])\r\n",
        "X4[['Valor consumo TUSD_FP']]= (TUSD_FP*X4['ENERGIA_FPONTA'])\r\n",
        "TOTAL_VALOR_DEMANDA_UC4 = X4['Valor Demanda'].sum()\r\n",
        "TOTAL_VALOR_CONSUMO_P_FP_TUSD_UC4 = X4['Valor Consumo P+FP TUSD'].sum()\r\n",
        "TOTAL_VALOR_CONSUMO_TE_UC4 = X4['Valor Consumo TE'].sum()\r\n",
        "TOTAL_CONTA_CATIVO_UC4 = X4['Valor da conta no cativo'].sum()\r\n",
        "TOTAL_VALOR_CONSUMO_TUSD_P_UC4 = X4['Valor consumo TUSD_P'].sum()\r\n",
        "TOTAL_VALOR_CONSUMO_TUSD_FP_UC4 = X4['Valor consumo TUSD_FP'].sum()"
      ],
      "execution_count": null,
      "outputs": []
    },
    {
      "cell_type": "code",
      "metadata": {
        "id": "wOL3pZBlixEe"
      },
      "source": [
        "print(TOTAL_VALOR_DEMANDA_UC4)\r\n",
        "print(TOTAL_VALOR_CONSUMO_P_FP_TUSD_UC4)\r\n",
        "print(TOTAL_VALOR_CONSUMO_TE_UC4)\r\n",
        "print(TOTAL_CONTA_CATIVO_UC4) \r\n",
        "print(TOTAL_VALOR_CONSUMO_TUSD_P_UC4) \r\n",
        "print(TOTAL_VALOR_CONSUMO_TUSD_FP_UC4)"
      ],
      "execution_count": null,
      "outputs": []
    },
    {
      "cell_type": "code",
      "metadata": {
        "id": "82jYJ-EoMba-"
      },
      "source": [
        "Total_UCs_2019 = TOTAL_CONTA_CATIVO_UC1+TOTAL_CONTA_CATIVO_UC2+TOTAL_CONTA_CATIVO_UC3+TOTAL_CONTA_CATIVO_UC4\r\n",
        "Total_UCs_2019"
      ],
      "execution_count": null,
      "outputs": []
    },
    {
      "cell_type": "markdown",
      "metadata": {
        "id": "MYt2Cu9-l6kA"
      },
      "source": [
        "## Passo 3: Parcela somente da TUSD para as 4 UCs"
      ]
    },
    {
      "cell_type": "markdown",
      "metadata": {
        "id": "T7G6kqahNW1q"
      },
      "source": [
        "Existe desconto na demanda e no consumo FP para mercado livre incentivado"
      ]
    },
    {
      "cell_type": "code",
      "metadata": {
        "id": "hZnB0AXXaV2z"
      },
      "source": [
        "X1=X1.reset_index()\r\n",
        "X2=X2.reset_index()\r\n",
        "X3=X3.reset_index()\r\n",
        "X4=X4.reset_index()"
      ],
      "execution_count": null,
      "outputs": []
    },
    {
      "cell_type": "code",
      "metadata": {
        "id": "Le2EC3pjUfrf"
      },
      "source": [
        "TUSD_parcela= X1['Valor Demanda']+X1['Valor Consumo P+FP TUSD']+X2['Valor Demanda']+X2['Valor Consumo P+FP TUSD']+X3['Valor Demanda']+X3['Valor Consumo P+FP TUSD']+X4['Valor Demanda']+X4['Valor Consumo P+FP TUSD']\r\n",
        "MEDIA_TUSD_parcela=TUSD_parcela.mean()\r\n",
        "print(MEDIA_TUSD_parcela)"
      ],
      "execution_count": null,
      "outputs": []
    },
    {
      "cell_type": "code",
      "metadata": {
        "id": "CLOEfsCxcUep"
      },
      "source": [
        "Conta_Total_Cativo=X1['Valor da conta no cativo']+X2['Valor da conta no cativo']+X3['Valor da conta no cativo']+X4['Valor da conta no cativo']\r\n",
        "MEDIA_Conta_Total_Cativo=Conta_Total_Cativo.mean()\r\n",
        "print(MEDIA_Conta_Total_Cativo)"
      ],
      "execution_count": null,
      "outputs": []
    },
    {
      "cell_type": "code",
      "metadata": {
        "id": "ijWiem9rdjS0"
      },
      "source": [
        "TUSD_Demanda_50parecela=(X1['Valor Demanda']+X2['Valor Demanda']+X3['Valor Demanda']+X4['Valor Demanda'])*0.5\r\n",
        "MEDIA_TUSD_Demanda_50parecela=TUSD_Demanda_50parecela.mean()\r\n",
        "print(MEDIA_TUSD_Demanda_50parecela)"
      ],
      "execution_count": null,
      "outputs": []
    },
    {
      "cell_type": "code",
      "metadata": {
        "id": "aJ9GbS2Oek1p"
      },
      "source": [
        "TUSD_Consumo_4855parecela=(X1['Valor consumo TUSD_FP']+X2['Valor consumo TUSD_FP']+X3['Valor consumo TUSD_FP']+X4['Valor consumo TUSD_FP'])-((X1['Valor consumo TUSD_FP']+X2['Valor consumo TUSD_FP']+X3['Valor consumo TUSD_FP']+X4['Valor consumo TUSD_FP'])*0.4855)+(X1['Valor consumo TUSD_P']+X2['Valor consumo TUSD_P']+X3['Valor consumo TUSD_P']+X4['Valor consumo TUSD_P'])\r\n",
        "MEDIA_TUSD_Consumo_4855parecela=TUSD_Consumo_4855parecela.mean()\r\n",
        "print(MEDIA_TUSD_Consumo_4855parecela)"
      ],
      "execution_count": null,
      "outputs": []
    },
    {
      "cell_type": "code",
      "metadata": {
        "id": "0kmqIPL7ds_Z"
      },
      "source": [
        "TUSD_Consumo_9711parecela=(X1['Valor consumo TUSD_FP']+X2['Valor consumo TUSD_FP']+X3['Valor consumo TUSD_FP']+X4['Valor consumo TUSD_FP'])-((X1['Valor consumo TUSD_FP']+X2['Valor consumo TUSD_FP']+X3['Valor consumo TUSD_FP']+X4['Valor consumo TUSD_FP'])*0.9711)+(X1['Valor consumo TUSD_P']+X2['Valor consumo TUSD_P']+X3['Valor consumo TUSD_P']+X4['Valor consumo TUSD_P'])\r\n",
        "MEDIA_TUSD_Consumo_9711parecela=TUSD_Consumo_9711parecela.mean()\r\n",
        "print(MEDIA_TUSD_Consumo_9711parecela)"
      ],
      "execution_count": null,
      "outputs": []
    },
    {
      "cell_type": "code",
      "metadata": {
        "id": "ieRdaQ_4g9Vv"
      },
      "source": [
        "TUSD_TOTAL_50=TUSD_Demanda_50parecela+TUSD_Consumo_4855parecela\r\n",
        "MEDIA_TUSD_TOTAL_50=TUSD_TOTAL_50.mean()\r\n",
        "print(MEDIA_TUSD_TOTAL_50)"
      ],
      "execution_count": null,
      "outputs": []
    },
    {
      "cell_type": "code",
      "metadata": {
        "id": "Lzh7fSTghfbA"
      },
      "source": [
        "TUSD_TOTAL_100=0+TUSD_Consumo_9711parecela\r\n",
        "MEDIA_TUSD_TOTAL_100=TUSD_TOTAL_100.mean()\r\n",
        "print(MEDIA_TUSD_TOTAL_100)"
      ],
      "execution_count": null,
      "outputs": []
    },
    {
      "cell_type": "markdown",
      "metadata": {
        "id": "IiGwNFSeh4JW"
      },
      "source": [
        "## Passo 4: Breakeven"
      ]
    },
    {
      "cell_type": "code",
      "metadata": {
        "id": "v3qeBbphmWmV"
      },
      "source": [
        "Consumo_Total=X1['ENERGIA_PONTA']+X1['ENERGIA_FPONTA']+X2['ENERGIA_PONTA']+X2['ENERGIA_FPONTA']+X3['ENERGIA_PONTA']+X3['ENERGIA_FPONTA']+X4['ENERGIA_PONTA']+X4['ENERGIA_FPONTA']\r\n",
        "MEDIA_Consumo_Total=Consumo_Total.mean()\r\n",
        "print(MEDIA_Consumo_Total)"
      ],
      "execution_count": null,
      "outputs": []
    },
    {
      "cell_type": "code",
      "metadata": {
        "id": "9Lj49GX7mzrO"
      },
      "source": [
        "Consumo_Total"
      ],
      "execution_count": null,
      "outputs": []
    },
    {
      "cell_type": "code",
      "metadata": {
        "id": "ago9dj9ni_Pl"
      },
      "source": [
        "Preço_energia_TE_50=Conta_Total_Cativo-TUSD_TOTAL_50\r\n",
        "MEDIA_Preço_energia_TE_50=Preço_energia_TE_50.mean()\r\n",
        "MEDIA_Preço_energia_TE_50_MWh=MEDIA_Preço_energia_TE_50/1000\r\n",
        "print(MEDIA_Preço_energia_TE_50)"
      ],
      "execution_count": null,
      "outputs": []
    },
    {
      "cell_type": "code",
      "metadata": {
        "id": "Vwx2E5tOljLB"
      },
      "source": [
        "Preço_energia_TE_100=Conta_Total_Cativo-TUSD_TOTAL_100\r\n",
        "MEDIA_Preço_energia_TE_100=Preço_energia_TE_100.mean()\r\n",
        "MEDIA_Preço_energia_TE_100_MWh=MEDIA_Preço_energia_TE_100/1000\r\n",
        "print(MEDIA_Preço_energia_TE_100)"
      ],
      "execution_count": null,
      "outputs": []
    },
    {
      "cell_type": "code",
      "metadata": {
        "id": "bzUAqr0Dl2Vx"
      },
      "source": [
        "BreakevenMensal_50=(Preço_energia_TE_50/(Consumo_Total/1000))\r\n",
        "MEDIA_BreakevenMensal_50=BreakevenMensal_50.mean()\r\n",
        "print(MEDIA_BreakevenMensal_50)"
      ],
      "execution_count": null,
      "outputs": []
    },
    {
      "cell_type": "code",
      "metadata": {
        "id": "p6EXEMmxnKId"
      },
      "source": [
        "BreakevenMensal_100=(Preço_energia_TE_100/(Consumo_Total/1000))\r\n",
        "MEDIA_BreakevenMensal_100=BreakevenMensal_100.mean()\r\n",
        "print(MEDIA_BreakevenMensal_100)"
      ],
      "execution_count": null,
      "outputs": []
    },
    {
      "cell_type": "markdown",
      "metadata": {
        "id": "uuLCUaVfowhg"
      },
      "source": [
        "## Passo 5: Mercado Livre"
      ]
    },
    {
      "cell_type": "code",
      "metadata": {
        "id": "om_WdifAo3qs"
      },
      "source": [
        "Valor_Energia_MWh=240\r\n",
        "TOTAL_Valor_Energia_MWh=Valor_Energia_MWh*12\r\n",
        "print(TOTAL_Valor_Energia_MWh)"
      ],
      "execution_count": null,
      "outputs": []
    },
    {
      "cell_type": "code",
      "metadata": {
        "id": "tAMgz3kapmt0"
      },
      "source": [
        "Conta_ML_50=TUSD_TOTAL_50+((Valor_Energia_MWh/1000)*Consumo_Total)\r\n",
        "MEDIA_Conta_ML_50=Conta_ML_50.mean()\r\n",
        "TOTAL_Conta_ML_50=Conta_ML_50.sum()\r\n",
        "print(MEDIA_Conta_ML_50)\r\n",
        "print(TOTAL_Conta_ML_50)\r\n"
      ],
      "execution_count": null,
      "outputs": []
    },
    {
      "cell_type": "code",
      "metadata": {
        "id": "ljk8JNf8rgAX"
      },
      "source": [
        "Conta_ML_100=TUSD_TOTAL_100+((Valor_Energia_MWh/1000)*Consumo_Total)\r\n",
        "MEDIA_Conta_ML_100=Conta_ML_100.mean()\r\n",
        "TOTAL_Conta_ML_100=Conta_ML_100.sum()\r\n",
        "print(MEDIA_Conta_ML_100)\r\n",
        "print(TOTAL_Conta_ML_100)"
      ],
      "execution_count": null,
      "outputs": []
    },
    {
      "cell_type": "markdown",
      "metadata": {
        "id": "UXeuL63Or8Gm"
      },
      "source": [
        "## Passo 6: Consolidação dos Resutados"
      ]
    },
    {
      "cell_type": "code",
      "metadata": {
        "id": "m19bIOvorgDD"
      },
      "source": [
        "print(\"Cativo = R$\",Total_UCs_2019)\r\n",
        "print(\"Livre 50% = R$\",TOTAL_Conta_ML_50)\r\n",
        "print(\"Livre 100% = R$\",TOTAL_Conta_ML_100)\r\n",
        "print(\"Econômia livre 50% = R$\",Total_UCs_2019-TOTAL_Conta_ML_50)\r\n",
        "print(\"Econômia livre 100% = R$\",Total_UCs_2019-TOTAL_Conta_ML_100)\r\n"
      ],
      "execution_count": null,
      "outputs": []
    },
    {
      "cell_type": "code",
      "metadata": {
        "id": "sh87JQOEtWV8"
      },
      "source": [
        "import matplotlib\r\n",
        "import matplotlib.pyplot as plt\r\n",
        "import numpy as np\r\n",
        "from matplotlib.pyplot import figure\r\n"
      ],
      "execution_count": 7,
      "outputs": []
    },
    {
      "cell_type": "code",
      "metadata": {
        "id": "rjbGaH5jCBa_",
        "outputId": "567c2337-051b-487c-fc1b-30ed065a55ca",
        "colab": {
          "base_uri": "https://localhost:8080/",
          "height": 223
        }
      },
      "source": [
        "labels = ['Cativo', 'Livre 50%', 'Livre 100%']\r\n",
        "Resultados_2019 = [Total_UCs_2019, TOTAL_Conta_ML_50, TOTAL_Conta_ML_100]\r\n",
        "Resultados_2020 = [938574, 801707, 60638]\r\n",
        "Resultados_2021 = [1338574, 1301707, 80638]\r\n",
        "\r\n",
        "x = np.arange(len(labels))  # the label locations\r\n",
        "width = 0.35  # the width of the bars\r\n",
        "\r\n",
        "fig, ax = plt.subplots(figsize=(15, 5))\r\n",
        "rects1 = ax.bar(x - width/2, Resultados_2019, width/2, label='2019')\r\n",
        "rects2 = ax.bar(x - width, Resultados_2020, width/2, label='2020')\r\n",
        "rects3 = ax.bar(x, Resultados_2021, width/2, label='2021')\r\n",
        "\r\n",
        "# Add some text for labels, title and custom x-axis tick labels, etc.\r\n",
        "ax.set_ylabel('Reais')\r\n",
        "ax.set_title('Comparação entre Mercado Cativo e Livre')\r\n",
        "ax.set_xticks(x)\r\n",
        "ax.set_xticklabels(labels)\r\n",
        "ax.legend()\r\n",
        "\r\n",
        "\r\n",
        "def autolabel(rects):\r\n",
        "    \"\"\"Attach a text label above each bar in *rects*, displaying its height.\"\"\"\r\n",
        "    for rect in rects:\r\n",
        "        height = rect.get_height()\r\n",
        "        ax.annotate('{}'.format(height),\r\n",
        "                    xy=(rect.get_x() + rect.get_width() / 2, height),\r\n",
        "                    xytext=(0, 3),  # 3 points vertical offset\r\n",
        "                    textcoords=\"offset points\",\r\n",
        "                    ha='center', va='bottom')\r\n",
        "\r\n",
        "\r\n",
        "autolabel(rects1)\r\n",
        "autolabel(rects2)\r\n",
        "autolabel(rects3)\r\n",
        "\r\n",
        "#figure(num=None, figsize=(15, 5), dpi=80, facecolor='w', edgecolor='k')\r\n",
        "#plt.figure(figsize=(40, 20))\r\n",
        "#fig.tight_layout()\r\n",
        "plt.show()"
      ],
      "execution_count": 8,
      "outputs": [
        {
          "output_type": "error",
          "ename": "NameError",
          "evalue": "ignored",
          "traceback": [
            "\u001b[0;31m---------------------------------------------------------------------------\u001b[0m",
            "\u001b[0;31mNameError\u001b[0m                                 Traceback (most recent call last)",
            "\u001b[0;32m<ipython-input-8-ec953711d6f1>\u001b[0m in \u001b[0;36m<module>\u001b[0;34m()\u001b[0m\n\u001b[1;32m      1\u001b[0m \u001b[0mlabels\u001b[0m \u001b[0;34m=\u001b[0m \u001b[0;34m[\u001b[0m\u001b[0;34m'Cativo'\u001b[0m\u001b[0;34m,\u001b[0m \u001b[0;34m'Livre 50%'\u001b[0m\u001b[0;34m,\u001b[0m \u001b[0;34m'Livre 100%'\u001b[0m\u001b[0;34m]\u001b[0m\u001b[0;34m\u001b[0m\u001b[0;34m\u001b[0m\u001b[0m\n\u001b[0;32m----> 2\u001b[0;31m \u001b[0mResultados_2019\u001b[0m \u001b[0;34m=\u001b[0m \u001b[0;34m[\u001b[0m\u001b[0mTotal_UCs_2019\u001b[0m\u001b[0;34m,\u001b[0m \u001b[0mTOTAL_Conta_ML_50\u001b[0m\u001b[0;34m,\u001b[0m \u001b[0mTOTAL_Conta_ML_100\u001b[0m\u001b[0;34m]\u001b[0m\u001b[0;34m\u001b[0m\u001b[0;34m\u001b[0m\u001b[0m\n\u001b[0m\u001b[1;32m      3\u001b[0m \u001b[0mResultados_2020\u001b[0m \u001b[0;34m=\u001b[0m \u001b[0;34m[\u001b[0m\u001b[0;36m938574\u001b[0m\u001b[0;34m,\u001b[0m \u001b[0;36m801707\u001b[0m\u001b[0;34m,\u001b[0m \u001b[0;36m60638\u001b[0m\u001b[0;34m]\u001b[0m\u001b[0;34m\u001b[0m\u001b[0;34m\u001b[0m\u001b[0m\n\u001b[1;32m      4\u001b[0m \u001b[0mResultados_2021\u001b[0m \u001b[0;34m=\u001b[0m \u001b[0;34m[\u001b[0m\u001b[0;36m1338574\u001b[0m\u001b[0;34m,\u001b[0m \u001b[0;36m1301707\u001b[0m\u001b[0;34m,\u001b[0m \u001b[0;36m80638\u001b[0m\u001b[0;34m]\u001b[0m\u001b[0;34m\u001b[0m\u001b[0;34m\u001b[0m\u001b[0m\n\u001b[1;32m      5\u001b[0m \u001b[0;34m\u001b[0m\u001b[0m\n",
            "\u001b[0;31mNameError\u001b[0m: name 'Total_UCs_2019' is not defined"
          ]
        }
      ]
    },
    {
      "cell_type": "code",
      "metadata": {
        "id": "Gi5GD4ExDVqB"
      },
      "source": [
        ""
      ],
      "execution_count": 9,
      "outputs": []
    },
    {
      "cell_type": "code",
      "metadata": {
        "id": "CcU-ERfsNIb6",
        "outputId": "b6adc360-213b-4bb6-a677-0be19a0fd898",
        "colab": {
          "base_uri": "https://localhost:8080/",
          "height": 126
        }
      },
      "source": [
        "Cativo, Livre50, Livre100 = Analise_de_Mercado_Livre(ANO = 2019, dadosDF, demanda_contratada = 139)"
      ],
      "execution_count": 10,
      "outputs": [
        {
          "output_type": "error",
          "ename": "SyntaxError",
          "evalue": "ignored",
          "traceback": [
            "\u001b[0;36m  File \u001b[0;32m\"<ipython-input-10-8e759d53fb01>\"\u001b[0;36m, line \u001b[0;32m1\u001b[0m\n\u001b[0;31m    Cativo, Livre50, Livre100 = Analise_de_Mercado_Livre(ANO = 2019, dadosDF, demanda_contratada = 139)\u001b[0m\n\u001b[0m                                                                    ^\u001b[0m\n\u001b[0;31mSyntaxError\u001b[0m\u001b[0;31m:\u001b[0m positional argument follows keyword argument\n"
          ]
        }
      ]
    },
    {
      "cell_type": "code",
      "metadata": {
        "id": "KZ3Pl3mEc8ce"
      },
      "source": [
        ""
      ],
      "execution_count": null,
      "outputs": []
    },
    {
      "cell_type": "code",
      "metadata": {
        "id": "Y4UruMTac8f0"
      },
      "source": [
        ""
      ],
      "execution_count": null,
      "outputs": []
    },
    {
      "cell_type": "code",
      "metadata": {
        "id": "fF3mvwAcc8ik"
      },
      "source": [
        ""
      ],
      "execution_count": null,
      "outputs": []
    },
    {
      "cell_type": "code",
      "metadata": {
        "id": "JTRv3oLcc8lV"
      },
      "source": [
        ""
      ],
      "execution_count": null,
      "outputs": []
    },
    {
      "cell_type": "code",
      "metadata": {
        "id": "9RBiNP4Rc8nw"
      },
      "source": [
        ""
      ],
      "execution_count": null,
      "outputs": []
    },
    {
      "cell_type": "code",
      "metadata": {
        "id": "KZz1TBUJc8p9"
      },
      "source": [
        ""
      ],
      "execution_count": null,
      "outputs": []
    },
    {
      "cell_type": "code",
      "metadata": {
        "id": "un1C4nqKc8sl"
      },
      "source": [
        ""
      ],
      "execution_count": null,
      "outputs": []
    },
    {
      "cell_type": "code",
      "metadata": {
        "id": "MbotBH5Qc8vf"
      },
      "source": [
        ""
      ],
      "execution_count": null,
      "outputs": []
    },
    {
      "cell_type": "code",
      "metadata": {
        "id": "eOtsJ4swYLjb"
      },
      "source": [
        "def TOTAL_CONTA_CATIVO_UC(dadosDF,demanda_contratada,Tarifa_total_P , Tarifa_total_FP, RetencaoFederal ):\r\n",
        "  TUSD_FP=Tarifa_total_FP*0.22  #22% Dado da Concecionaria a ser atualizado\r\n",
        "  TUSD_P=Tarifa_total_P*0.74    #74% Dado da Concecionaria a ser atualizado\r\n",
        "  TE_FP=Tarifa_total_FP-TUSD_FP\r\n",
        "  TE_P= Tarifa_total_P-TUSD_P\r\n",
        "  dadosDF['Differença Demanda'] = dadosDF['DEMANDA_REGISTRADA_FP'] - demanda_contratada\r\n",
        "  dadosDF['Valor Demanda'] = (dadosDF['DEMANDA_REGISTRADA_FP'] * dadosDF['TAR_TUSD_KW_FP']) +(dadosDF['Differença Demanda'] *-1* dadosDF['TAR_DEMANDA_FP_SEM ICMS'])\r\n",
        "  dadosDF['Valor Consumo P+FP TUSD'] = (TUSD_FP*dadosDF['ENERGIA_FPONTA'])+(TUSD_P*dadosDF['ENERGIA_PONTA'])\r\n",
        "  dadosDF['Valor Consumo TE'] = (TE_FP*dadosDF['ENERGIA_FPONTA'])+(TE_P*dadosDF['ENERGIA_PONTA'])\r\n",
        "  dadosDF['Valor da conta no cativo'] = (dadosDF['Valor Demanda']+dadosDF['Valor Consumo P+FP TUSD']+dadosDF['Valor Consumo TE'])-((dadosDF['Valor Demanda']+dadosDF['Valor Consumo P+FP TUSD']+dadosDF['Valor Consumo TE'])*RetencaoFederal)\r\n",
        "  TOTAL_CONTA_CATIVO = dadosDF['Valor da conta no cativo'].sum()\r\n",
        "  #dadosDF.head()\r\n",
        "  return TOTAL_CONTA_CATIVO, dadosDF"
      ],
      "execution_count": 12,
      "outputs": []
    },
    {
      "cell_type": "code",
      "metadata": {
        "colab": {
          "base_uri": "https://localhost:8080/",
          "height": 392
        },
        "id": "i-UHc5WzroDo",
        "outputId": "a0a36fe0-2101-4958-cef7-7ea723628759"
      },
      "source": [
        "dadosUC1 = UC1[UC1['ANO']==2019][['DEMANDA_REGISTRADA_FP','TAR_TUSD_KW_FP', 'TAR_DEMANDA_FP_SEM ICMS', 'ENERGIA_FPONTA', 'ENERGIA_PONTA']].reset_index()\r\n",
        "del dadosUC1['index']\r\n",
        "dadosUC1 = dadosUC1.fillna(method='ffill')\r\n",
        "dadosUC1"
      ],
      "execution_count": 13,
      "outputs": [
        {
          "output_type": "execute_result",
          "data": {
            "text/html": [
              "<div>\n",
              "<style scoped>\n",
              "    .dataframe tbody tr th:only-of-type {\n",
              "        vertical-align: middle;\n",
              "    }\n",
              "\n",
              "    .dataframe tbody tr th {\n",
              "        vertical-align: top;\n",
              "    }\n",
              "\n",
              "    .dataframe thead th {\n",
              "        text-align: right;\n",
              "    }\n",
              "</style>\n",
              "<table border=\"1\" class=\"dataframe\">\n",
              "  <thead>\n",
              "    <tr style=\"text-align: right;\">\n",
              "      <th></th>\n",
              "      <th>DEMANDA_REGISTRADA_FP</th>\n",
              "      <th>TAR_TUSD_KW_FP</th>\n",
              "      <th>TAR_DEMANDA_FP_SEM ICMS</th>\n",
              "      <th>ENERGIA_FPONTA</th>\n",
              "      <th>ENERGIA_PONTA</th>\n",
              "    </tr>\n",
              "  </thead>\n",
              "  <tbody>\n",
              "    <tr>\n",
              "      <th>0</th>\n",
              "      <td>100.80</td>\n",
              "      <td>20.00873</td>\n",
              "      <td>14.31754</td>\n",
              "      <td>19079</td>\n",
              "      <td>1232</td>\n",
              "    </tr>\n",
              "    <tr>\n",
              "      <th>1</th>\n",
              "      <td>95.34</td>\n",
              "      <td>20.25635</td>\n",
              "      <td>14.44366</td>\n",
              "      <td>17637</td>\n",
              "      <td>1077</td>\n",
              "    </tr>\n",
              "    <tr>\n",
              "      <th>2</th>\n",
              "      <td>109.62</td>\n",
              "      <td>19.53986</td>\n",
              "      <td>14.07522</td>\n",
              "      <td>17950</td>\n",
              "      <td>1120</td>\n",
              "    </tr>\n",
              "    <tr>\n",
              "      <th>3</th>\n",
              "      <td>144.06</td>\n",
              "      <td>19.97938</td>\n",
              "      <td>14.07522</td>\n",
              "      <td>26068</td>\n",
              "      <td>2354</td>\n",
              "    </tr>\n",
              "    <tr>\n",
              "      <th>4</th>\n",
              "      <td>152.46</td>\n",
              "      <td>21.00833</td>\n",
              "      <td>14.07522</td>\n",
              "      <td>22733</td>\n",
              "      <td>2163</td>\n",
              "    </tr>\n",
              "    <tr>\n",
              "      <th>5</th>\n",
              "      <td>154.14</td>\n",
              "      <td>21.90197</td>\n",
              "      <td>14.07522</td>\n",
              "      <td>24845</td>\n",
              "      <td>2400</td>\n",
              "    </tr>\n",
              "    <tr>\n",
              "      <th>6</th>\n",
              "      <td>137.76</td>\n",
              "      <td>21.86411</td>\n",
              "      <td>15.75000</td>\n",
              "      <td>22334</td>\n",
              "      <td>2316</td>\n",
              "    </tr>\n",
              "    <tr>\n",
              "      <th>7</th>\n",
              "      <td>80.64</td>\n",
              "      <td>23.20945</td>\n",
              "      <td>16.43420</td>\n",
              "      <td>14889</td>\n",
              "      <td>1213</td>\n",
              "    </tr>\n",
              "    <tr>\n",
              "      <th>8</th>\n",
              "      <td>137.76</td>\n",
              "      <td>22.18975</td>\n",
              "      <td>15.91935</td>\n",
              "      <td>26607</td>\n",
              "      <td>2975</td>\n",
              "    </tr>\n",
              "    <tr>\n",
              "      <th>9</th>\n",
              "      <td>140.70</td>\n",
              "      <td>20.87043</td>\n",
              "      <td>15.91935</td>\n",
              "      <td>28142</td>\n",
              "      <td>3297</td>\n",
              "    </tr>\n",
              "    <tr>\n",
              "      <th>10</th>\n",
              "      <td>164.22</td>\n",
              "      <td>20.91925</td>\n",
              "      <td>41.83822</td>\n",
              "      <td>27156</td>\n",
              "      <td>2913</td>\n",
              "    </tr>\n",
              "    <tr>\n",
              "      <th>11</th>\n",
              "      <td>130.93</td>\n",
              "      <td>21.63072</td>\n",
              "      <td>15.62701</td>\n",
              "      <td>22918</td>\n",
              "      <td>2124</td>\n",
              "    </tr>\n",
              "  </tbody>\n",
              "</table>\n",
              "</div>"
            ],
            "text/plain": [
              "    DEMANDA_REGISTRADA_FP  TAR_TUSD_KW_FP  ...  ENERGIA_FPONTA  ENERGIA_PONTA\n",
              "0                  100.80        20.00873  ...           19079           1232\n",
              "1                   95.34        20.25635  ...           17637           1077\n",
              "2                  109.62        19.53986  ...           17950           1120\n",
              "3                  144.06        19.97938  ...           26068           2354\n",
              "4                  152.46        21.00833  ...           22733           2163\n",
              "5                  154.14        21.90197  ...           24845           2400\n",
              "6                  137.76        21.86411  ...           22334           2316\n",
              "7                   80.64        23.20945  ...           14889           1213\n",
              "8                  137.76        22.18975  ...           26607           2975\n",
              "9                  140.70        20.87043  ...           28142           3297\n",
              "10                 164.22        20.91925  ...           27156           2913\n",
              "11                 130.93        21.63072  ...           22918           2124\n",
              "\n",
              "[12 rows x 5 columns]"
            ]
          },
          "metadata": {
            "tags": []
          },
          "execution_count": 13
        }
      ]
    },
    {
      "cell_type": "code",
      "metadata": {
        "colab": {
          "base_uri": "https://localhost:8080/",
          "height": 392
        },
        "id": "_hBslKg2rxfc",
        "outputId": "8f44a8f8-98f4-4fc0-829b-1443caecd7c9"
      },
      "source": [
        "dadosUC2 = UC2[UC2['ANO']==2019][['DEMANDA_REGISTRADA_FP','TAR_TUSD_KW_FP', 'TAR_DEMANDA_FP_SEM ICMS', 'ENERGIA_FPONTA', 'ENERGIA_PONTA']].reset_index()\r\n",
        "del dadosUC2['index']\r\n",
        "dadosUC2 = dadosUC2.fillna(method='ffill')\r\n",
        "dadosUC2"
      ],
      "execution_count": 14,
      "outputs": [
        {
          "output_type": "execute_result",
          "data": {
            "text/html": [
              "<div>\n",
              "<style scoped>\n",
              "    .dataframe tbody tr th:only-of-type {\n",
              "        vertical-align: middle;\n",
              "    }\n",
              "\n",
              "    .dataframe tbody tr th {\n",
              "        vertical-align: top;\n",
              "    }\n",
              "\n",
              "    .dataframe thead th {\n",
              "        text-align: right;\n",
              "    }\n",
              "</style>\n",
              "<table border=\"1\" class=\"dataframe\">\n",
              "  <thead>\n",
              "    <tr style=\"text-align: right;\">\n",
              "      <th></th>\n",
              "      <th>DEMANDA_REGISTRADA_FP</th>\n",
              "      <th>TAR_TUSD_KW_FP</th>\n",
              "      <th>TAR_DEMANDA_FP_SEM ICMS</th>\n",
              "      <th>ENERGIA_FPONTA</th>\n",
              "      <th>ENERGIA_PONTA</th>\n",
              "    </tr>\n",
              "  </thead>\n",
              "  <tbody>\n",
              "    <tr>\n",
              "      <th>0</th>\n",
              "      <td>53.00</td>\n",
              "      <td>20.00887</td>\n",
              "      <td>14.31729</td>\n",
              "      <td>12205.0</td>\n",
              "      <td>982.0</td>\n",
              "    </tr>\n",
              "    <tr>\n",
              "      <th>1</th>\n",
              "      <td>67.62</td>\n",
              "      <td>20.25629</td>\n",
              "      <td>14.44360</td>\n",
              "      <td>11239.0</td>\n",
              "      <td>1046.0</td>\n",
              "    </tr>\n",
              "    <tr>\n",
              "      <th>2</th>\n",
              "      <td>78.96</td>\n",
              "      <td>19.53977</td>\n",
              "      <td>14.07564</td>\n",
              "      <td>11988.0</td>\n",
              "      <td>1134.0</td>\n",
              "    </tr>\n",
              "    <tr>\n",
              "      <th>3</th>\n",
              "      <td>84.84</td>\n",
              "      <td>19.97937</td>\n",
              "      <td>14.30216</td>\n",
              "      <td>15817.0</td>\n",
              "      <td>1291.0</td>\n",
              "    </tr>\n",
              "    <tr>\n",
              "      <th>4</th>\n",
              "      <td>75.18</td>\n",
              "      <td>21.61586</td>\n",
              "      <td>15.50613</td>\n",
              "      <td>13298.0</td>\n",
              "      <td>1025.0</td>\n",
              "    </tr>\n",
              "    <tr>\n",
              "      <th>5</th>\n",
              "      <td>78.12</td>\n",
              "      <td>21.90169</td>\n",
              "      <td>15.76771</td>\n",
              "      <td>15858.0</td>\n",
              "      <td>1470.0</td>\n",
              "    </tr>\n",
              "    <tr>\n",
              "      <th>6</th>\n",
              "      <td>75.18</td>\n",
              "      <td>21.86393</td>\n",
              "      <td>15.74794</td>\n",
              "      <td>14605.0</td>\n",
              "      <td>1398.0</td>\n",
              "    </tr>\n",
              "    <tr>\n",
              "      <th>7</th>\n",
              "      <td>75.18</td>\n",
              "      <td>21.86393</td>\n",
              "      <td>15.74794</td>\n",
              "      <td>14605.0</td>\n",
              "      <td>1398.0</td>\n",
              "    </tr>\n",
              "    <tr>\n",
              "      <th>8</th>\n",
              "      <td>86.94</td>\n",
              "      <td>22.18979</td>\n",
              "      <td>15.91623</td>\n",
              "      <td>16531.0</td>\n",
              "      <td>1440.0</td>\n",
              "    </tr>\n",
              "    <tr>\n",
              "      <th>9</th>\n",
              "      <td>88.62</td>\n",
              "      <td>20.87023</td>\n",
              "      <td>15.22583</td>\n",
              "      <td>18084.0</td>\n",
              "      <td>1516.0</td>\n",
              "    </tr>\n",
              "    <tr>\n",
              "      <th>10</th>\n",
              "      <td>110.88</td>\n",
              "      <td>20.91919</td>\n",
              "      <td>15.25204</td>\n",
              "      <td>21564.0</td>\n",
              "      <td>1792.0</td>\n",
              "    </tr>\n",
              "    <tr>\n",
              "      <th>11</th>\n",
              "      <td>79.80</td>\n",
              "      <td>21.63083</td>\n",
              "      <td>15.62656</td>\n",
              "      <td>14665.0</td>\n",
              "      <td>1304.0</td>\n",
              "    </tr>\n",
              "  </tbody>\n",
              "</table>\n",
              "</div>"
            ],
            "text/plain": [
              "    DEMANDA_REGISTRADA_FP  TAR_TUSD_KW_FP  ...  ENERGIA_FPONTA  ENERGIA_PONTA\n",
              "0                   53.00        20.00887  ...         12205.0          982.0\n",
              "1                   67.62        20.25629  ...         11239.0         1046.0\n",
              "2                   78.96        19.53977  ...         11988.0         1134.0\n",
              "3                   84.84        19.97937  ...         15817.0         1291.0\n",
              "4                   75.18        21.61586  ...         13298.0         1025.0\n",
              "5                   78.12        21.90169  ...         15858.0         1470.0\n",
              "6                   75.18        21.86393  ...         14605.0         1398.0\n",
              "7                   75.18        21.86393  ...         14605.0         1398.0\n",
              "8                   86.94        22.18979  ...         16531.0         1440.0\n",
              "9                   88.62        20.87023  ...         18084.0         1516.0\n",
              "10                 110.88        20.91919  ...         21564.0         1792.0\n",
              "11                  79.80        21.63083  ...         14665.0         1304.0\n",
              "\n",
              "[12 rows x 5 columns]"
            ]
          },
          "metadata": {
            "tags": []
          },
          "execution_count": 14
        }
      ]
    },
    {
      "cell_type": "code",
      "metadata": {
        "colab": {
          "base_uri": "https://localhost:8080/",
          "height": 392
        },
        "id": "zuMngpu2sBhX",
        "outputId": "1c77c64a-949b-4fa2-8209-45345ac340e8"
      },
      "source": [
        "dadosUC3 = UC3[UC3['ANO']==2019][['DEMANDA_REGISTRADA_FP','TAR_TUSD_KW_FP', 'TAR_DEMANDA_FP_SEM ICMS', 'ENERGIA_FPONTA', 'ENERGIA_PONTA']].reset_index()\r\n",
        "del dadosUC3['index']\r\n",
        "dadosUC3 = dadosUC3.fillna(method='ffill')\r\n",
        "dadosUC3"
      ],
      "execution_count": 15,
      "outputs": [
        {
          "output_type": "execute_result",
          "data": {
            "text/html": [
              "<div>\n",
              "<style scoped>\n",
              "    .dataframe tbody tr th:only-of-type {\n",
              "        vertical-align: middle;\n",
              "    }\n",
              "\n",
              "    .dataframe tbody tr th {\n",
              "        vertical-align: top;\n",
              "    }\n",
              "\n",
              "    .dataframe thead th {\n",
              "        text-align: right;\n",
              "    }\n",
              "</style>\n",
              "<table border=\"1\" class=\"dataframe\">\n",
              "  <thead>\n",
              "    <tr style=\"text-align: right;\">\n",
              "      <th></th>\n",
              "      <th>DEMANDA_REGISTRADA_FP</th>\n",
              "      <th>TAR_TUSD_KW_FP</th>\n",
              "      <th>TAR_DEMANDA_FP_SEM ICMS</th>\n",
              "      <th>ENERGIA_FPONTA</th>\n",
              "      <th>ENERGIA_PONTA</th>\n",
              "    </tr>\n",
              "  </thead>\n",
              "  <tbody>\n",
              "    <tr>\n",
              "      <th>0</th>\n",
              "      <td>283.00</td>\n",
              "      <td>20.00887</td>\n",
              "      <td>14.31726</td>\n",
              "      <td>66179</td>\n",
              "      <td>7760</td>\n",
              "    </tr>\n",
              "    <tr>\n",
              "      <th>1</th>\n",
              "      <td>297.36</td>\n",
              "      <td>20.25639</td>\n",
              "      <td>14.44369</td>\n",
              "      <td>53186</td>\n",
              "      <td>4205</td>\n",
              "    </tr>\n",
              "    <tr>\n",
              "      <th>2</th>\n",
              "      <td>346.08</td>\n",
              "      <td>19.53988</td>\n",
              "      <td>14.44369</td>\n",
              "      <td>63699</td>\n",
              "      <td>5139</td>\n",
              "    </tr>\n",
              "    <tr>\n",
              "      <th>3</th>\n",
              "      <td>451.92</td>\n",
              "      <td>19.97940</td>\n",
              "      <td>14.44369</td>\n",
              "      <td>85351</td>\n",
              "      <td>13212</td>\n",
              "    </tr>\n",
              "    <tr>\n",
              "      <th>4</th>\n",
              "      <td>458.64</td>\n",
              "      <td>21.21095</td>\n",
              "      <td>14.44369</td>\n",
              "      <td>80797</td>\n",
              "      <td>12105</td>\n",
              "    </tr>\n",
              "    <tr>\n",
              "      <th>5</th>\n",
              "      <td>443.52</td>\n",
              "      <td>21.90197</td>\n",
              "      <td>15.76763</td>\n",
              "      <td>97228</td>\n",
              "      <td>15548</td>\n",
              "    </tr>\n",
              "    <tr>\n",
              "      <th>6</th>\n",
              "      <td>425.04</td>\n",
              "      <td>21.86418</td>\n",
              "      <td>15.76763</td>\n",
              "      <td>85691</td>\n",
              "      <td>12686</td>\n",
              "    </tr>\n",
              "    <tr>\n",
              "      <th>7</th>\n",
              "      <td>295.68</td>\n",
              "      <td>23.20965</td>\n",
              "      <td>15.76763</td>\n",
              "      <td>57686</td>\n",
              "      <td>6234</td>\n",
              "    </tr>\n",
              "    <tr>\n",
              "      <th>8</th>\n",
              "      <td>515.76</td>\n",
              "      <td>22.18978</td>\n",
              "      <td>15.91619</td>\n",
              "      <td>99003</td>\n",
              "      <td>15640</td>\n",
              "    </tr>\n",
              "    <tr>\n",
              "      <th>9</th>\n",
              "      <td>614.88</td>\n",
              "      <td>20.87050</td>\n",
              "      <td>15.91619</td>\n",
              "      <td>115664</td>\n",
              "      <td>17746</td>\n",
              "    </tr>\n",
              "    <tr>\n",
              "      <th>10</th>\n",
              "      <td>651.84</td>\n",
              "      <td>20.91934</td>\n",
              "      <td>15.91619</td>\n",
              "      <td>135194</td>\n",
              "      <td>20367</td>\n",
              "    </tr>\n",
              "    <tr>\n",
              "      <th>11</th>\n",
              "      <td>419.48</td>\n",
              "      <td>21.63083</td>\n",
              "      <td>15.62658</td>\n",
              "      <td>83691</td>\n",
              "      <td>11665</td>\n",
              "    </tr>\n",
              "  </tbody>\n",
              "</table>\n",
              "</div>"
            ],
            "text/plain": [
              "    DEMANDA_REGISTRADA_FP  TAR_TUSD_KW_FP  ...  ENERGIA_FPONTA  ENERGIA_PONTA\n",
              "0                  283.00        20.00887  ...           66179           7760\n",
              "1                  297.36        20.25639  ...           53186           4205\n",
              "2                  346.08        19.53988  ...           63699           5139\n",
              "3                  451.92        19.97940  ...           85351          13212\n",
              "4                  458.64        21.21095  ...           80797          12105\n",
              "5                  443.52        21.90197  ...           97228          15548\n",
              "6                  425.04        21.86418  ...           85691          12686\n",
              "7                  295.68        23.20965  ...           57686           6234\n",
              "8                  515.76        22.18978  ...           99003          15640\n",
              "9                  614.88        20.87050  ...          115664          17746\n",
              "10                 651.84        20.91934  ...          135194          20367\n",
              "11                 419.48        21.63083  ...           83691          11665\n",
              "\n",
              "[12 rows x 5 columns]"
            ]
          },
          "metadata": {
            "tags": []
          },
          "execution_count": 15
        }
      ]
    },
    {
      "cell_type": "code",
      "metadata": {
        "colab": {
          "base_uri": "https://localhost:8080/",
          "height": 392
        },
        "id": "48k9lgQMyia0",
        "outputId": "54dc84ec-e600-4b04-9122-5bb05e9bd2c0"
      },
      "source": [
        "dadosUC4 = UC4[UC4['ANO']==2019][['DEMANDA_REGISTRADA_FP','TAR_TUSD_KW_FP', 'TAR_DEMANDA_FP_SEM ICMS', 'ENERGIA_FPONTA', 'ENERGIA_PONTA']].reset_index()\r\n",
        "del dadosUC4['index']\r\n",
        "dadosUC4 = dadosUC4.fillna(method='ffill')\r\n",
        "dadosUC4"
      ],
      "execution_count": 16,
      "outputs": [
        {
          "output_type": "execute_result",
          "data": {
            "text/html": [
              "<div>\n",
              "<style scoped>\n",
              "    .dataframe tbody tr th:only-of-type {\n",
              "        vertical-align: middle;\n",
              "    }\n",
              "\n",
              "    .dataframe tbody tr th {\n",
              "        vertical-align: top;\n",
              "    }\n",
              "\n",
              "    .dataframe thead th {\n",
              "        text-align: right;\n",
              "    }\n",
              "</style>\n",
              "<table border=\"1\" class=\"dataframe\">\n",
              "  <thead>\n",
              "    <tr style=\"text-align: right;\">\n",
              "      <th></th>\n",
              "      <th>DEMANDA_REGISTRADA_FP</th>\n",
              "      <th>TAR_TUSD_KW_FP</th>\n",
              "      <th>TAR_DEMANDA_FP_SEM ICMS</th>\n",
              "      <th>ENERGIA_FPONTA</th>\n",
              "      <th>ENERGIA_PONTA</th>\n",
              "    </tr>\n",
              "  </thead>\n",
              "  <tbody>\n",
              "    <tr>\n",
              "      <th>0</th>\n",
              "      <td>13.00</td>\n",
              "      <td>20.09230</td>\n",
              "      <td>14.31706</td>\n",
              "      <td>2733.0</td>\n",
              "      <td>284.0</td>\n",
              "    </tr>\n",
              "    <tr>\n",
              "      <th>1</th>\n",
              "      <td>37.97</td>\n",
              "      <td>20.25652</td>\n",
              "      <td>14.31706</td>\n",
              "      <td>3481.0</td>\n",
              "      <td>374.0</td>\n",
              "    </tr>\n",
              "    <tr>\n",
              "      <th>2</th>\n",
              "      <td>58.63</td>\n",
              "      <td>19.54000</td>\n",
              "      <td>14.31706</td>\n",
              "      <td>6014.0</td>\n",
              "      <td>888.0</td>\n",
              "    </tr>\n",
              "    <tr>\n",
              "      <th>3</th>\n",
              "      <td>72.91</td>\n",
              "      <td>19.97929</td>\n",
              "      <td>14.31706</td>\n",
              "      <td>7402.0</td>\n",
              "      <td>2318.0</td>\n",
              "    </tr>\n",
              "    <tr>\n",
              "      <th>4</th>\n",
              "      <td>55.78</td>\n",
              "      <td>21.69649</td>\n",
              "      <td>14.31706</td>\n",
              "      <td>6852.0</td>\n",
              "      <td>2042.0</td>\n",
              "    </tr>\n",
              "    <tr>\n",
              "      <th>5</th>\n",
              "      <td>59.14</td>\n",
              "      <td>21.90176</td>\n",
              "      <td>14.31706</td>\n",
              "      <td>7871.0</td>\n",
              "      <td>2359.0</td>\n",
              "    </tr>\n",
              "    <tr>\n",
              "      <th>6</th>\n",
              "      <td>49.39</td>\n",
              "      <td>21.86394</td>\n",
              "      <td>14.31706</td>\n",
              "      <td>6540.0</td>\n",
              "      <td>1940.0</td>\n",
              "    </tr>\n",
              "    <tr>\n",
              "      <th>7</th>\n",
              "      <td>50.57</td>\n",
              "      <td>23.20921</td>\n",
              "      <td>16.43417</td>\n",
              "      <td>4187.0</td>\n",
              "      <td>877.0</td>\n",
              "    </tr>\n",
              "    <tr>\n",
              "      <th>8</th>\n",
              "      <td>75.93</td>\n",
              "      <td>22.18965</td>\n",
              "      <td>15.91616</td>\n",
              "      <td>7123.0</td>\n",
              "      <td>2559.0</td>\n",
              "    </tr>\n",
              "    <tr>\n",
              "      <th>9</th>\n",
              "      <td>85.35</td>\n",
              "      <td>20.87030</td>\n",
              "      <td>15.22599</td>\n",
              "      <td>9308.0</td>\n",
              "      <td>3244.0</td>\n",
              "    </tr>\n",
              "    <tr>\n",
              "      <th>10</th>\n",
              "      <td>95.08</td>\n",
              "      <td>20.91933</td>\n",
              "      <td>15.25200</td>\n",
              "      <td>10486.0</td>\n",
              "      <td>3898.0</td>\n",
              "    </tr>\n",
              "    <tr>\n",
              "      <th>11</th>\n",
              "      <td>55.14</td>\n",
              "      <td>21.63040</td>\n",
              "      <td>15.62650</td>\n",
              "      <td>6159.0</td>\n",
              "      <td>1751.0</td>\n",
              "    </tr>\n",
              "  </tbody>\n",
              "</table>\n",
              "</div>"
            ],
            "text/plain": [
              "    DEMANDA_REGISTRADA_FP  TAR_TUSD_KW_FP  ...  ENERGIA_FPONTA  ENERGIA_PONTA\n",
              "0                   13.00        20.09230  ...          2733.0          284.0\n",
              "1                   37.97        20.25652  ...          3481.0          374.0\n",
              "2                   58.63        19.54000  ...          6014.0          888.0\n",
              "3                   72.91        19.97929  ...          7402.0         2318.0\n",
              "4                   55.78        21.69649  ...          6852.0         2042.0\n",
              "5                   59.14        21.90176  ...          7871.0         2359.0\n",
              "6                   49.39        21.86394  ...          6540.0         1940.0\n",
              "7                   50.57        23.20921  ...          4187.0          877.0\n",
              "8                   75.93        22.18965  ...          7123.0         2559.0\n",
              "9                   85.35        20.87030  ...          9308.0         3244.0\n",
              "10                  95.08        20.91933  ...         10486.0         3898.0\n",
              "11                  55.14        21.63040  ...          6159.0         1751.0\n",
              "\n",
              "[12 rows x 5 columns]"
            ]
          },
          "metadata": {
            "tags": []
          },
          "execution_count": 16
        }
      ]
    },
    {
      "cell_type": "code",
      "metadata": {
        "colab": {
          "base_uri": "https://localhost:8080/"
        },
        "id": "5VRCQzOLa7Zv",
        "outputId": "e2535509-6547-4414-f9b0-fd3ead5a6437"
      },
      "source": [
        "TOTAL_CONTA_CATIVO_UC1, dadosUC1 = TOTAL_CONTA_CATIVO_UC(dadosUC1,demanda_contratada = 139,Tarifa_total_P=1.81318, Tarifa_total_FP = 0.40733, RetencaoFederal = 0.0620)\r\n",
        "TOTAL_CONTA_CATIVO_UC1"
      ],
      "execution_count": 17,
      "outputs": [
        {
          "output_type": "execute_result",
          "data": {
            "text/plain": [
              "177881.59051655576"
            ]
          },
          "metadata": {
            "tags": []
          },
          "execution_count": 17
        }
      ]
    },
    {
      "cell_type": "code",
      "metadata": {
        "colab": {
          "base_uri": "https://localhost:8080/"
        },
        "id": "Q0b0QbgtohLI",
        "outputId": "c5caad4e-d42e-4bb6-df80-fe2104c16a03"
      },
      "source": [
        "TOTAL_CONTA_CATIVO_UC2, dadosUC2 = TOTAL_CONTA_CATIVO_UC(dadosUC2,demanda_contratada = 160,Tarifa_total_P=1.81318, Tarifa_total_FP = 0.40733, RetencaoFederal = 0.0620)\r\n",
        "TOTAL_CONTA_CATIVO_UC2"
      ],
      "execution_count": 18,
      "outputs": [
        {
          "output_type": "execute_result",
          "data": {
            "text/plain": [
              "128388.82282331842"
            ]
          },
          "metadata": {
            "tags": []
          },
          "execution_count": 18
        }
      ]
    },
    {
      "cell_type": "code",
      "metadata": {
        "colab": {
          "base_uri": "https://localhost:8080/"
        },
        "id": "NYTtjCJTtkPI",
        "outputId": "df1f7eab-dec0-4e60-b872-775b58f4ef73"
      },
      "source": [
        "TOTAL_CONTA_CATIVO_UC3, dadosUC3 = TOTAL_CONTA_CATIVO_UC(dadosUC3,demanda_contratada = 600,Tarifa_total_P=1.81318, Tarifa_total_FP = 0.40733, RetencaoFederal = 0.0620)\r\n",
        "TOTAL_CONTA_CATIVO_UC3"
      ],
      "execution_count": 19,
      "outputs": [
        {
          "output_type": "execute_result",
          "data": {
            "text/plain": [
              "764302.8261847831"
            ]
          },
          "metadata": {
            "tags": []
          },
          "execution_count": 19
        }
      ]
    },
    {
      "cell_type": "code",
      "metadata": {
        "id": "QAhDceKzw_Yn",
        "colab": {
          "base_uri": "https://localhost:8080/"
        },
        "outputId": "e7a75dc0-957b-49cd-de95-6d144567b178"
      },
      "source": [
        "TOTAL_CONTA_CATIVO_UC4, dadosUC4 = TOTAL_CONTA_CATIVO_UC(dadosUC4,demanda_contratada = 150,Tarifa_total_P=1.81318, Tarifa_total_FP = 0.40733, RetencaoFederal = 0.0620)\r\n",
        "TOTAL_CONTA_CATIVO_UC4"
      ],
      "execution_count": 20,
      "outputs": [
        {
          "output_type": "execute_result",
          "data": {
            "text/plain": [
              "97474.8981387706"
            ]
          },
          "metadata": {
            "tags": []
          },
          "execution_count": 20
        }
      ]
    },
    {
      "cell_type": "code",
      "metadata": {
        "colab": {
          "base_uri": "https://localhost:8080/",
          "height": 392
        },
        "id": "6ommDd6jy7Yn",
        "outputId": "c823773a-9d46-47be-8642-daf7efd065ba"
      },
      "source": [
        "dadosUC4"
      ],
      "execution_count": 21,
      "outputs": [
        {
          "output_type": "execute_result",
          "data": {
            "text/html": [
              "<div>\n",
              "<style scoped>\n",
              "    .dataframe tbody tr th:only-of-type {\n",
              "        vertical-align: middle;\n",
              "    }\n",
              "\n",
              "    .dataframe tbody tr th {\n",
              "        vertical-align: top;\n",
              "    }\n",
              "\n",
              "    .dataframe thead th {\n",
              "        text-align: right;\n",
              "    }\n",
              "</style>\n",
              "<table border=\"1\" class=\"dataframe\">\n",
              "  <thead>\n",
              "    <tr style=\"text-align: right;\">\n",
              "      <th></th>\n",
              "      <th>DEMANDA_REGISTRADA_FP</th>\n",
              "      <th>TAR_TUSD_KW_FP</th>\n",
              "      <th>TAR_DEMANDA_FP_SEM ICMS</th>\n",
              "      <th>ENERGIA_FPONTA</th>\n",
              "      <th>ENERGIA_PONTA</th>\n",
              "      <th>Differença Demanda</th>\n",
              "      <th>Valor Demanda</th>\n",
              "      <th>Valor Consumo P+FP TUSD</th>\n",
              "      <th>Valor Consumo TE</th>\n",
              "      <th>Valor da conta no cativo</th>\n",
              "    </tr>\n",
              "  </thead>\n",
              "  <tbody>\n",
              "    <tr>\n",
              "      <th>0</th>\n",
              "      <td>13.00</td>\n",
              "      <td>20.09230</td>\n",
              "      <td>14.31706</td>\n",
              "      <td>2733.0</td>\n",
              "      <td>284.0</td>\n",
              "      <td>-137.00</td>\n",
              "      <td>2222.637120</td>\n",
              "      <td>625.969145</td>\n",
              "      <td>1002.206865</td>\n",
              "      <td>3612.062716</td>\n",
              "    </tr>\n",
              "    <tr>\n",
              "      <th>1</th>\n",
              "      <td>37.97</td>\n",
              "      <td>20.25652</td>\n",
              "      <td>14.31706</td>\n",
              "      <td>3481.0</td>\n",
              "      <td>374.0</td>\n",
              "      <td>-112.03</td>\n",
              "      <td>2373.080296</td>\n",
              "      <td>813.757157</td>\n",
              "      <td>1282.287893</td>\n",
              "      <td>4192.039575</td>\n",
              "    </tr>\n",
              "    <tr>\n",
              "      <th>2</th>\n",
              "      <td>58.63</td>\n",
              "      <td>19.54000</td>\n",
              "      <td>14.31706</td>\n",
              "      <td>6014.0</td>\n",
              "      <td>888.0</td>\n",
              "      <td>-91.37</td>\n",
              "      <td>2453.779972</td>\n",
              "      <td>1730.407018</td>\n",
              "      <td>2329.379442</td>\n",
              "      <td>6109.725313</td>\n",
              "    </tr>\n",
              "    <tr>\n",
              "      <th>3</th>\n",
              "      <td>72.91</td>\n",
              "      <td>19.97929</td>\n",
              "      <td>14.31706</td>\n",
              "      <td>7402.0</td>\n",
              "      <td>2318.0</td>\n",
              "      <td>-77.09</td>\n",
              "      <td>2560.392189</td>\n",
              "      <td>3773.496383</td>\n",
              "      <td>3444.511517</td>\n",
              "      <td>9172.139284</td>\n",
              "    </tr>\n",
              "    <tr>\n",
              "      <th>4</th>\n",
              "      <td>55.78</td>\n",
              "      <td>21.69649</td>\n",
              "      <td>14.31706</td>\n",
              "      <td>6852.0</td>\n",
              "      <td>2042.0</td>\n",
              "      <td>-94.22</td>\n",
              "      <td>2559.183605</td>\n",
              "      <td>3353.885570</td>\n",
              "      <td>3139.653150</td>\n",
              "      <td>8491.453541</td>\n",
              "    </tr>\n",
              "    <tr>\n",
              "      <th>5</th>\n",
              "      <td>59.14</td>\n",
              "      <td>21.90176</td>\n",
              "      <td>14.31706</td>\n",
              "      <td>7871.0</td>\n",
              "      <td>2359.0</td>\n",
              "      <td>-90.86</td>\n",
              "      <td>2596.118158</td>\n",
              "      <td>3870.536573</td>\n",
              "      <td>3612.849477</td>\n",
              "      <td>9454.574947</td>\n",
              "    </tr>\n",
              "    <tr>\n",
              "      <th>6</th>\n",
              "      <td>49.39</td>\n",
              "      <td>21.86394</td>\n",
              "      <td>14.31706</td>\n",
              "      <td>6540.0</td>\n",
              "      <td>1940.0</td>\n",
              "      <td>-100.61</td>\n",
              "      <td>2520.299403</td>\n",
              "      <td>3189.067612</td>\n",
              "      <td>2992.439788</td>\n",
              "      <td>8162.294781</td>\n",
              "    </tr>\n",
              "    <tr>\n",
              "      <th>7</th>\n",
              "      <td>50.57</td>\n",
              "      <td>23.20921</td>\n",
              "      <td>16.43417</td>\n",
              "      <td>4187.0</td>\n",
              "      <td>877.0</td>\n",
              "      <td>-99.43</td>\n",
              "      <td>2807.739273</td>\n",
              "      <td>1551.925513</td>\n",
              "      <td>1743.724057</td>\n",
              "      <td>5724.978735</td>\n",
              "    </tr>\n",
              "    <tr>\n",
              "      <th>8</th>\n",
              "      <td>75.93</td>\n",
              "      <td>22.18965</td>\n",
              "      <td>15.91616</td>\n",
              "      <td>7123.0</td>\n",
              "      <td>2559.0</td>\n",
              "      <td>-74.07</td>\n",
              "      <td>2863.770096</td>\n",
              "      <td>4071.856989</td>\n",
              "      <td>3469.482221</td>\n",
              "      <td>9759.992529</td>\n",
              "    </tr>\n",
              "    <tr>\n",
              "      <th>9</th>\n",
              "      <td>85.35</td>\n",
              "      <td>20.87030</td>\n",
              "      <td>15.22599</td>\n",
              "      <td>9308.0</td>\n",
              "      <td>3244.0</td>\n",
              "      <td>-64.65</td>\n",
              "      <td>2765.640358</td>\n",
              "      <td>5186.761462</td>\n",
              "      <td>4486.622098</td>\n",
              "      <td>11667.804436</td>\n",
              "    </tr>\n",
              "    <tr>\n",
              "      <th>10</th>\n",
              "      <td>95.08</td>\n",
              "      <td>20.91933</td>\n",
              "      <td>15.25200</td>\n",
              "      <td>10486.0</td>\n",
              "      <td>3898.0</td>\n",
              "      <td>-54.92</td>\n",
              "      <td>2826.649736</td>\n",
              "      <td>6169.831697</td>\n",
              "      <td>5169.206323</td>\n",
              "      <td>13287.415116</td>\n",
              "    </tr>\n",
              "    <tr>\n",
              "      <th>11</th>\n",
              "      <td>55.14</td>\n",
              "      <td>21.63040</td>\n",
              "      <td>15.62650</td>\n",
              "      <td>6159.0</td>\n",
              "      <td>1751.0</td>\n",
              "      <td>-94.86</td>\n",
              "      <td>2675.030046</td>\n",
              "      <td>2901.333857</td>\n",
              "      <td>2782.289793</td>\n",
              "      <td>7840.417167</td>\n",
              "    </tr>\n",
              "  </tbody>\n",
              "</table>\n",
              "</div>"
            ],
            "text/plain": [
              "    DEMANDA_REGISTRADA_FP  ...  Valor da conta no cativo\n",
              "0                   13.00  ...               3612.062716\n",
              "1                   37.97  ...               4192.039575\n",
              "2                   58.63  ...               6109.725313\n",
              "3                   72.91  ...               9172.139284\n",
              "4                   55.78  ...               8491.453541\n",
              "5                   59.14  ...               9454.574947\n",
              "6                   49.39  ...               8162.294781\n",
              "7                   50.57  ...               5724.978735\n",
              "8                   75.93  ...               9759.992529\n",
              "9                   85.35  ...              11667.804436\n",
              "10                  95.08  ...              13287.415116\n",
              "11                  55.14  ...               7840.417167\n",
              "\n",
              "[12 rows x 10 columns]"
            ]
          },
          "metadata": {
            "tags": []
          },
          "execution_count": 21
        }
      ]
    },
    {
      "cell_type": "code",
      "metadata": {
        "id": "Lfh0oAhPzCPQ"
      },
      "source": [
        "def Analise_de_Mercado_Livre(ANO,dadosDF,demanda_contratada):\r\n",
        "  #X1[['Differença Demanda']] = X1[['DEMANDA_REGISTRADA_FP']] - demanda_contratada_UC1\r\n",
        "  #X1[['Valor Demanda']] = (X1['DEMANDA_REGISTRADA_FP'] * X1['TAR_TUSD_KW_FP']) +(X1['Differença Demanda'] *-1* X1['TAR_DEMANDA_FP_SEM ICMS'])\r\n",
        "  #X1[['Valor da conta no cativo']] = (X1['Valor Demanda']+X1['Valor Consumo P+FP TUSD']+X1['Valor Consumo TE'])-((X1['Valor Demanda']+X1['Valor Consumo P+FP TUSD']+X1['Valor Consumo TE'])*RetencaoFederal)\r\n",
        "  #TOTAL_CONTA_CATIVO_UC1 = X1['Valor da conta no cativo'].sum()\r\n",
        "  #Total_UCs_2019 = TOTAL_CONTA_CATIVO_UC1+TOTAL_CONTA_CATIVO_UC2+TOTAL_CONTA_CATIVO_UC3+TOTAL_CONTA_CATIVO_UC4\r\n",
        "  Cativo = 12345 #Total_UCs_2019\r\n",
        "\r\n",
        "  #TUSD_Demanda_50parecela=(X1['Valor Demanda']+X2['Valor Demanda']+X3['Valor Demanda']+X4['Valor Demanda'])*0.5\r\n",
        "  TUSD_Consumo_4855parecela=(X1['Valor consumo TUSD_FP']+X2['Valor consumo TUSD_FP']+X3['Valor consumo TUSD_FP']+X4['Valor consumo TUSD_FP'])-((X1['Valor consumo TUSD_FP']+X2['Valor consumo TUSD_FP']+X3['Valor consumo TUSD_FP']+X4['Valor consumo TUSD_FP'])*0.4855)+(X1['Valor consumo TUSD_P']+X2['Valor consumo TUSD_P']+X3['Valor consumo TUSD_P']+X4['Valor consumo TUSD_P'])\r\n",
        "  TUSD_TOTAL_50=TUSD_Demanda_50parecela+TUSD_Consumo_4855parecela\r\n",
        "  Conta_ML_50=TUSD_TOTAL_50+((Valor_Energia_MWh/1000)*Consumo_Total)\r\n",
        "  TOTAL_Conta_ML_50=Conta_ML_50.sum()\r\n",
        "  Livre50 = 67890 #TOTAL_Conta_ML_50\r\n",
        "  Livre100 = 61290 #TOTAL_Conta_ML_100\r\n",
        "  print(\"Cativo = R$\",Cativo, \"do ano = \", ANO)\r\n",
        "  print(\"Livre 50% = R$\",Livre50, \"do ano = \", ANO)\r\n",
        "  print(\"Livre 100% = R$\",Livre100, \"do ano = \", ANO)\r\n",
        "  print(\"Econômia livre 50% = R$\",Cativo-Livre50)\r\n",
        "  print(\"Econômia livre 100% = R$\",Cativo-Livre100)\r\n",
        "  return Cativo, Livre50, Livre100"
      ],
      "execution_count": null,
      "outputs": []
    },
    {
      "cell_type": "code",
      "metadata": {
        "id": "xh5hvVy0hL0i"
      },
      "source": [
        "def TOTAL_CONTA_CATIVO_UC(dadosDF,Tarifa_total_P , Tarifa_total_FP, RetencaoFederal ):\r\n",
        "  TUSD_FP=Tarifa_total_FP*0.22  #22% Dado da Concecionaria a ser atualizado\r\n",
        "  TUSD_P=Tarifa_total_P*0.74    #74% Dado da Concecionaria a ser atualizado\r\n",
        "  TE_FP=Tarifa_total_FP-TUSD_FP\r\n",
        "  TE_P= Tarifa_total_P-TUSD_P\r\n",
        "  dadosDF['Differença Demanda'] = dadosDF['DEMANDA_REGISTRADA_FP'] - dadosDF['DEMANDA_CONTRATADA_P']\r\n",
        "  dadosDF['Valor Demanda'] = (dadosDF['DEMANDA_REGISTRADA_FP'] * dadosDF['TAR_TUSD_KW_FP']) +(dadosDF['Differença Demanda'] *-1* dadosDF['TAR_DEMANDA_FP_SEM ICMS'])\r\n",
        "  dadosDF['Valor Consumo P+FP TUSD'] = (TUSD_FP*dadosDF['ENERGIA_FPONTA'])+(TUSD_P*dadosDF['ENERGIA_PONTA'])\r\n",
        "  dadosDF['Valor Consumo TE'] = (TE_FP*dadosDF['ENERGIA_FPONTA'])+(TE_P*dadosDF['ENERGIA_PONTA'])\r\n",
        "  dadosDF['Valor da conta no cativo'] = (dadosDF['Valor Demanda']+dadosDF['Valor Consumo P+FP TUSD']+dadosDF['Valor Consumo TE'])-((dadosDF['Valor Demanda']+dadosDF['Valor Consumo P+FP TUSD']+dadosDF['Valor Consumo TE'])*RetencaoFederal)\r\n",
        "  dadosDF['Valor consumo TUSD_FP']= (TUSD_FP*dadosDF['ENERGIA_FPONTA'])\r\n",
        "  dadosDF['Valor consumo TUSD_P']= (TUSD_P*dadosDF['ENERGIA_PONTA'])\r\n",
        "  TOTAL_CONTA_CATIVO = dadosDF['Valor da conta no cativo'].sum()\r\n",
        "  #dadosDF.head()\r\n",
        "  return TOTAL_CONTA_CATIVO, dadosDF"
      ],
      "execution_count": 28,
      "outputs": []
    },
    {
      "cell_type": "code",
      "metadata": {
        "id": "5CQ90E4sdgFu",
        "outputId": "d9340449-d374-4f22-e960-43066cfd1a34",
        "colab": {
          "base_uri": "https://localhost:8080/"
        }
      },
      "source": [
        "UCs = [UC1, UC2, UC3, UC4]\r\n",
        "Cativo = 0\r\n",
        "lista_UCs = []\r\n",
        "TUSD_Demanda_50parecela = 0\r\n",
        "TUSD_Consumo_4855parecela = 0\r\n",
        "\r\n",
        "for UC_E in UCs:\r\n",
        "  dadosUC_E = UC_E[UC_E['ANO']==2019][['DEMANDA_CONTRATADA_P','DEMANDA_REGISTRADA_FP','TAR_TUSD_KW_FP', 'TAR_DEMANDA_FP_SEM ICMS', 'ENERGIA_FPONTA', 'ENERGIA_PONTA']].reset_index()\r\n",
        "  del dadosUC_E['index']\r\n",
        "  dadosUC_E = dadosUC_E.fillna(method='ffill')\r\n",
        "  TOTAL_CONTA_CATIVO_UC_E, dadosUC_E = TOTAL_CONTA_CATIVO_UC(dadosUC_E,Tarifa_total_P=1.81318, Tarifa_total_FP = 0.40733, RetencaoFederal = 0.0620)\r\n",
        "  lista_UCs.append(dadosUC_E)\r\n",
        "  Cativo = TOTAL_CONTA_CATIVO_UC_E + Cativo\r\n",
        "  TUSD_Demanda_50parecela = dadosUC_E['Valor Demanda']+TUSD_Demanda_50parecela\r\n",
        "  TUSD_Consumo_4855parecela = dadosUC_E['Valor consumo TUSD_FP'] - (dadosUC_E['Valor consumo TUSD_FP'] * 0.4855 ) +  + TUSD_Consumo_4855parecela #TUSD consumo 48.55%\r\n",
        "print(Cativo)\r\n",
        "TUSD_Demanda_50parecela = TUSD_Demanda_50parecela * 0.5\r\n"
      ],
      "execution_count": 29,
      "outputs": [
        {
          "output_type": "stream",
          "text": [
            "1189467.218709028\n"
          ],
          "name": "stdout"
        }
      ]
    },
    {
      "cell_type": "code",
      "metadata": {
        "id": "RRD_-iQq1JEG"
      },
      "source": [
        ""
      ],
      "execution_count": null,
      "outputs": []
    }
  ]
}